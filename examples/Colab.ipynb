{
  "nbformat": 4,
  "nbformat_minor": 0,
  "metadata": {
    "colab": {
      "name": "CNVpytor.tutorial",
      "provenance": [],
      "collapsed_sections": [
        "EmSgH5ajgw6d",
        "SkMoyLV4jdJo",
        "2znYwACv1anm",
        "VfDXg11Ej0S3",
        "x1FxNpirMaBF",
        "uFDnMUmyMini",
        "j0Q09_J9PBVt",
        "UsN-1s5lOdE1",
        "dYh1NSFnSA-6",
        "acT_rkNvrx81"
      ],
      "include_colab_link": true
    },
    "kernelspec": {
      "name": "python3",
      "display_name": "Python 3"
    }
  },
  "cells": [
    {
      "cell_type": "markdown",
      "metadata": {
        "id": "view-in-github",
        "colab_type": "text"
      },
      "source": [
        "<a href=\"https://colab.research.google.com/github/abyzovlab/CNVpytor/blob/master/examples/Colab.ipynb\" target=\"_parent\"><img src=\"https://colab.research.google.com/assets/colab-badge.svg\" alt=\"Open In Colab\"/></a>"
      ]
    },
    {
      "cell_type": "markdown",
      "metadata": {
        "id": "0YaPeyz5fsPv",
        "colab_type": "text"
      },
      "source": [
        "This article demostrates about the installation of CNVpytor and two usage example with CEPH trio dataset available in the google cloud.\n",
        "\n",
        "\n",
        "***Links***\n",
        "*   CNVpytor: https://github.com/abyzovlab/CNVpytor\n",
        "*   Example dataset: https://console.cloud.google.com/storage/browser/genomics-public-data/platinum-genomes\n",
        "*   Related: https://googlegenomics.readthedocs.io/en/latest/use_cases/discover_public_data/platinum_genomes.html"
      ]
    },
    {
      "cell_type": "markdown",
      "metadata": {
        "id": "tpAGmqEHgfJj",
        "colab_type": "text"
      },
      "source": [
        "# Table of Content\n",
        "\n",
        "---\n",
        "\n",
        "\n",
        "*   [1. Installation of CNVpytor](#scrollTo=EmSgH5ajgw6d)\n",
        "*   [2. Integration of Publicly available google cloud datasets](#scrollTo=SkMoyLV4jdJo)\n",
        "*   [3. CNVpytor run on example datasets](scrollTo=v4blh9SrlDZp)\n",
        " * [3.1 Alignment file as input for read depth analysis](#scrollTo=-0mffW8Z0mEt)\n",
        "         *   [3.1.1 Using command line console](#scrollTo=2znYwACv1anm)\n",
        "         *   [3.1.2 Using python environment](#scrollTo=OI5Nfduwj6Im)\n",
        " *   [3.2 Variant file as input for BAF analysis](#scrollTo=TsRzzeUDRNoL)\n",
        "         *   [3.2.1 Using command line console](#scrollTo=VfDXg11Ej0S3)\n",
        "         *   [3.2.2 Using python environment](#scrollTo=OI5Nfduwj6Im)\n",
        "*   [4. Visualization of results](#scrollTo=gS-kYadbl4Hv)\n",
        " * [4.1 View metadata from pytor file](#scrollTo=x1FxNpirMaBF)\n",
        " * [4.2 View content of the pytor file](#scrollTo=uFDnMUmyMini)\n",
        " * [4.3 Available configuration options](#scrollTo=j0Q09_J9PBVt)\n",
        " * [4.4 Single Sample: Genome Wide view](#scrollTo=UsN-1s5lOdE1)\n",
        " * [4.5 Single Sample: Region wide view](#scrollTo=LoN5UFX0OtLH)\n",
        " * [4.6 Read Depth Manhattan plot](#scrollTo=dYh1NSFnSA-6)\n",
        "\n",
        "* [5. Export of CNVpytor results](#scrollTo=acT_rkNvrx81)\n",
        "\n",
        "\n",
        "\n",
        "---\n"
      ]
    },
    {
      "cell_type": "markdown",
      "metadata": {
        "id": "EmSgH5ajgw6d",
        "colab_type": "text"
      },
      "source": [
        "\n",
        "\n",
        "## 1. Installation of CNVpytor\n",
        "CNVpytor is fully written in python, which makes the instllation much easier. Even in google colab, one can easily install, run and get all the required results and save it to their own system for future use.\n",
        "\n",
        "\n"
      ]
    },
    {
      "cell_type": "markdown",
      "metadata": {
        "id": "xoHXrhf-yuU_",
        "colab_type": "text"
      },
      "source": [
        "### 1.1 Install directly from github\n",
        "Steps to install directly from github\n",
        "```\n",
        "git clone https://github.com/abyzovlab/CNVpytor.git\n",
        "python setup.py install\n",
        "```\n",
        "\n",
        "### 1.2 Using PIP install\n",
        "```\n",
        "pip install cnvpytor\n",
        "cnvpytor -download\n",
        "```\n",
        "\n",
        "### 1.3. PIP install directly from github\n",
        "```\n",
        "pip install git+https://github.com/abyzovlab/CNVpytor.git\n",
        "```\n",
        "\n",
        "In this demostration, the pip installation directly from github is followed  as it has the latest features."
      ]
    },
    {
      "cell_type": "code",
      "metadata": {
        "id": "Bsrm_qb51tzF",
        "colab_type": "code",
        "colab": {
          "base_uri": "https://localhost:8080/",
          "height": 489
        },
        "outputId": "84ea8ed2-6d99-4928-f1c3-9a3323ca94b4"
      },
      "source": [
        "# PIP install directly from github\n",
        "!pip install git+https://github.com/abyzovlab/CNVpytor.git"
      ],
      "execution_count": null,
      "outputs": [
        {
          "output_type": "stream",
          "text": [
            "Collecting git+https://github.com/abyzovlab/CNVpytor.git\n",
            "  Cloning https://github.com/abyzovlab/CNVpytor.git to /tmp/pip-req-build-q065xqnr\n",
            "  Running command git clone -q https://github.com/abyzovlab/CNVpytor.git /tmp/pip-req-build-q065xqnr\n",
            "Collecting gnureadline\n",
            "\u001b[?25l  Downloading https://files.pythonhosted.org/packages/4c/c7/64612d5cc3fd69497a4296a07143c1d19f4f5ffb4bc5cef5019b07fecec7/gnureadline-8.0.0-cp36-cp36m-manylinux1_x86_64.whl (283kB)\n",
            "\u001b[K     |████████████████████████████████| 286kB 2.7MB/s \n",
            "\u001b[?25hRequirement already satisfied: pathlib>=1.0requests>=2.0 in /usr/local/lib/python3.6/dist-packages (from CNVpytor==1.0) (1.0.1)\n",
            "Collecting pysam>=0.15\n",
            "\u001b[?25l  Downloading https://files.pythonhosted.org/packages/87/a1/73e80a7a873f3fb0e52d368a4343eb9882b737c932b95020d82251f1087e/pysam-0.16.0.1-cp36-cp36m-manylinux1_x86_64.whl (9.9MB)\n",
            "\u001b[K     |████████████████████████████████| 10.0MB 227kB/s \n",
            "\u001b[?25hRequirement already satisfied: numpy>=1.16 in /usr/local/lib/python3.6/dist-packages (from CNVpytor==1.0) (1.18.5)\n",
            "Requirement already satisfied: scipy>=1.1 in /usr/local/lib/python3.6/dist-packages (from CNVpytor==1.0) (1.4.1)\n",
            "Requirement already satisfied: matplotlib>=2.2 in /usr/local/lib/python3.6/dist-packages (from CNVpytor==1.0) (3.2.2)\n",
            "Requirement already satisfied: h5py>=2.9 in /usr/local/lib/python3.6/dist-packages (from CNVpytor==1.0) (2.10.0)\n",
            "Requirement already satisfied: python-dateutil>=2.1 in /usr/local/lib/python3.6/dist-packages (from matplotlib>=2.2->CNVpytor==1.0) (2.8.1)\n",
            "Requirement already satisfied: pyparsing!=2.0.4,!=2.1.2,!=2.1.6,>=2.0.1 in /usr/local/lib/python3.6/dist-packages (from matplotlib>=2.2->CNVpytor==1.0) (2.4.7)\n",
            "Requirement already satisfied: kiwisolver>=1.0.1 in /usr/local/lib/python3.6/dist-packages (from matplotlib>=2.2->CNVpytor==1.0) (1.2.0)\n",
            "Requirement already satisfied: cycler>=0.10 in /usr/local/lib/python3.6/dist-packages (from matplotlib>=2.2->CNVpytor==1.0) (0.10.0)\n",
            "Requirement already satisfied: six in /usr/local/lib/python3.6/dist-packages (from h5py>=2.9->CNVpytor==1.0) (1.15.0)\n",
            "Building wheels for collected packages: CNVpytor\n",
            "  Building wheel for CNVpytor (setup.py) ... \u001b[?25l\u001b[?25hdone\n",
            "  Created wheel for CNVpytor: filename=CNVpytor-1.0-cp36-none-any.whl size=68298386 sha256=1fc4f8947a899e2dc77972e3dd9c32f75ee7a49ec7775196d8508ccce87d21a8\n",
            "  Stored in directory: /tmp/pip-ephem-wheel-cache-21w8kzs0/wheels/a4/02/bb/f16f595b6aad019289d21b7c776ff000c0cb1f0318d38bc2ed\n",
            "Successfully built CNVpytor\n",
            "Installing collected packages: gnureadline, pysam, CNVpytor\n",
            "Successfully installed CNVpytor-1.0 gnureadline-8.0.0 pysam-0.16.0.1\n"
          ],
          "name": "stdout"
        }
      ]
    },
    {
      "cell_type": "markdown",
      "metadata": {
        "id": "SkMoyLV4jdJo",
        "colab_type": "text"
      },
      "source": [
        "\n",
        "\n",
        "---\n",
        "\n",
        "\n",
        "##  2. Integration of Publicly available google cloud datasets\n",
        "In the google cloud, there are some public datasets available which can be easily mounted to any existing google colab. One can use that without downloading the dataset. Here is the [link](https://console.cloud.google.com/storage/browser/genomics-public-data/platinum-genomes) for the datasets.\n",
        "\n",
        "There are basically four steps to integrate\n",
        "*   Google account authentication\n",
        "*   Install gcsfuse\n",
        "*   Create a directory\n",
        "*   Mount a CEPH datasets\n",
        "\n",
        "Here we have ingreated the whole genome datasets and variant files.Let's integrate the above dataset to this environment.\n",
        "\n"
      ]
    },
    {
      "cell_type": "markdown",
      "metadata": {
        "id": "2b-tRvepxVoc",
        "colab_type": "text"
      },
      "source": [
        "**Step1**: Google account authentication may required. "
      ]
    },
    {
      "cell_type": "code",
      "metadata": {
        "id": "S3W7J9vkkDqb",
        "colab_type": "code",
        "colab": {}
      },
      "source": [
        "# google account authentication may required. \n",
        "from google.colab import auth\n",
        "auth.authenticate_user()"
      ],
      "execution_count": null,
      "outputs": []
    },
    {
      "cell_type": "markdown",
      "metadata": {
        "id": "MhAJYnAXxeX6",
        "colab_type": "text"
      },
      "source": [
        "**Step2**: Install gccfuse"
      ]
    },
    {
      "cell_type": "code",
      "metadata": {
        "id": "OQWYGCKwkG5G",
        "colab_type": "code",
        "colab": {
          "base_uri": "https://localhost:8080/",
          "height": 330
        },
        "outputId": "ec2f6718-8ac8-43ab-c2c7-ea4c6327782f"
      },
      "source": [
        "# install gcsfuse\n",
        "!echo \"deb http://packages.cloud.google.com/apt gcsfuse-bionic main\" > /etc/apt/sources.list.d/gcsfuse.list\n",
        "!curl https://packages.cloud.google.com/apt/doc/apt-key.gpg | apt-key add -\n",
        "!apt -qq update\n",
        "!apt -qq install gcsfuse"
      ],
      "execution_count": null,
      "outputs": [
        {
          "output_type": "stream",
          "text": [
            "  % Total    % Received % Xferd  Average Speed   Time    Time     Time  Current\n",
            "                                 Dload  Upload   Total   Spent    Left  Speed\n",
            "\r  0     0    0     0    0     0      0      0 --:--:-- --:--:-- --:--:--     0\r100   653  100   653    0     0  22517      0 --:--:-- --:--:-- --:--:-- 22517\n",
            "OK\n",
            "103 packages can be upgraded. Run 'apt list --upgradable' to see them.\n",
            "The following package was automatically installed and is no longer required:\n",
            "  libnvidia-common-440\n",
            "Use 'apt autoremove' to remove it.\n",
            "The following NEW packages will be installed:\n",
            "  gcsfuse\n",
            "0 upgraded, 1 newly installed, 0 to remove and 103 not upgraded.\n",
            "Need to get 4,278 kB of archives.\n",
            "After this operation, 12.8 MB of additional disk space will be used.\n",
            "Selecting previously unselected package gcsfuse.\n",
            "(Reading database ... 144465 files and directories currently installed.)\n",
            "Preparing to unpack .../gcsfuse_0.30.0_amd64.deb ...\n",
            "Unpacking gcsfuse (0.30.0) ...\n",
            "Setting up gcsfuse (0.30.0) ...\n"
          ],
          "name": "stdout"
        }
      ]
    },
    {
      "cell_type": "markdown",
      "metadata": {
        "id": "0nmvwMcExw7P",
        "colab_type": "text"
      },
      "source": [
        "**Step3**: Create directory for WGS and VCF files"
      ]
    },
    {
      "cell_type": "code",
      "metadata": {
        "id": "ptdZL72ikMRF",
        "colab_type": "code",
        "colab": {}
      },
      "source": [
        "# Create a directory for WGS data\n",
        "!mkdir trio_data_bam\n"
      ],
      "execution_count": null,
      "outputs": []
    },
    {
      "cell_type": "code",
      "metadata": {
        "id": "6C-kzauWx9pM",
        "colab_type": "code",
        "colab": {}
      },
      "source": [
        "# Create Directory for VCF files\n",
        "!mkdir trio_data_vcf"
      ],
      "execution_count": null,
      "outputs": []
    },
    {
      "cell_type": "markdown",
      "metadata": {
        "id": "sAOGjkY7yFaK",
        "colab_type": "text"
      },
      "source": [
        "**Step4**: Mount CEPH datasets"
      ]
    },
    {
      "cell_type": "code",
      "metadata": {
        "id": "fupkcEexkOcU",
        "colab_type": "code",
        "colab": {
          "base_uri": "https://localhost:8080/",
          "height": 104
        },
        "outputId": "f3bfd5a2-d304-45fe-a433-97f8f45d9e7c"
      },
      "source": [
        "# Mount CEPH bam files to the trio_data_bam folder\n",
        "!gcsfuse --only-dir platinum-genomes/bam genomics-public-data /content/trio_data_bam"
      ],
      "execution_count": null,
      "outputs": [
        {
          "output_type": "stream",
          "text": [
            "Using mount point: /content/trio_data_bam\n",
            "Opening GCS connection...\n",
            "Opening bucket...\n",
            "Mounting file system...\n",
            "File system has been successfully mounted.\n"
          ],
          "name": "stdout"
        }
      ]
    },
    {
      "cell_type": "code",
      "metadata": {
        "id": "kGgW1dQlyYJW",
        "colab_type": "code",
        "colab": {
          "base_uri": "https://localhost:8080/",
          "height": 104
        },
        "outputId": "68d77aeb-e498-42a7-80dd-0e41b53909ee"
      },
      "source": [
        "# Mount CEPH vcf files to the trio_data_vcf folder\n",
        "!gcsfuse --only-dir platinum-genomes/vcf genomics-public-data /content/trio_data_vcf"
      ],
      "execution_count": null,
      "outputs": [
        {
          "output_type": "stream",
          "text": [
            "Using mount point: /content/trio_data_vcf\n",
            "Opening GCS connection...\n",
            "Opening bucket...\n",
            "Mounting file system...\n",
            "File system has been successfully mounted.\n"
          ],
          "name": "stdout"
        }
      ]
    },
    {
      "cell_type": "markdown",
      "metadata": {
        "id": "GeEhBV1Wjtex",
        "colab_type": "text"
      },
      "source": [
        "Now we have successfuly mounted Google cloud datasets. Lets run CNVpytor now"
      ]
    },
    {
      "cell_type": "markdown",
      "metadata": {
        "id": "v4blh9SrlDZp",
        "colab_type": "text"
      },
      "source": [
        "## 3. CNVpytor run using example datasets\n",
        "CNVpytor takes both alignmnet file and variant file as input. Depending on the input type, the steps vary. One can use both or any one of the input file. \n",
        "\n",
        "There are two ways to run CNVpytor.\n",
        "*   Using command line console\n",
        "*   Using python environment\n",
        "Here we are going to show both the example using two different dataset and compare their results\n",
        "\n"
      ]
    },
    {
      "cell_type": "markdown",
      "metadata": {
        "id": "-0mffW8Z0mEt",
        "colab_type": "text"
      },
      "source": [
        "### 3.1 Alignment file as input for Read depth analysis\n",
        "\n",
        "The steps are as follows:\n",
        "\n",
        "*   Read the Read Depth data\n",
        "*   Create RD histogram\n",
        "*   Partition step\n",
        "*   Call step"
      ]
    },
    {
      "cell_type": "markdown",
      "metadata": {
        "id": "2znYwACv1anm",
        "colab_type": "text"
      },
      "source": [
        "#### 3.1.1 Using command line console\n"
      ]
    },
    {
      "cell_type": "code",
      "metadata": {
        "id": "6QHTLtOznnw7",
        "colab_type": "code",
        "colab": {
          "base_uri": "https://localhost:8080/",
          "height": 1000
        },
        "outputId": "268ab876-38e0-4389-a7cf-41f7443d7d0b"
      },
      "source": [
        "\n",
        "# RD Step\n",
        "!cnvpytor -root NA12877.pytor -rd /content/trio_data_bam/NA12877_S1.bam\n",
        "\n",
        "# Data_link\n",
        "# gs://genomics-public-data/platinum-genomes/bam/NA12877_S1.bam"
      ],
      "execution_count": null,
      "outputs": [
        {
          "output_type": "stream",
          "text": [
            "2020-07-21 23:11:42,320 - cnvpytor.bam - INFO - File: /content/trio_data_bam/NA12877_S1.bam successfully open\n",
            "2020-07-21 23:11:42,320 - cnvpytor.bam - INFO - Detected reference genome: hg19\n",
            "2020-07-21 23:11:42,326 - cnvpytor.pool - INFO - Parallel processing using 2 cores\n",
            "2020-07-21 23:11:42,338 - cnvpytor.root - INFO - Reading data for chromosome chrM with length 16571\n",
            "2020-07-21 23:11:42,339 - cnvpytor.root - INFO - Reading data for chromosome chr1 with length 249250621\n",
            "2020-07-21 23:12:03,995 - cnvpytor.root - INFO - Reading data for chromosome chr2 with length 243199373\n",
            "2020-07-21 23:33:22,656 - cnvpytor.root - INFO - Reading data for chromosome chr3 with length 198022430\n",
            "2020-07-21 23:34:22,293 - cnvpytor.root - INFO - Reading data for chromosome chr4 with length 191154276\n",
            "2020-07-21 23:51:30,953 - cnvpytor.root - INFO - Reading data for chromosome chr5 with length 180915260\n",
            "2020-07-21 23:51:57,387 - cnvpytor.root - INFO - Reading data for chromosome chr6 with length 171115067\n",
            "2020-07-22 00:07:33,008 - cnvpytor.root - INFO - Reading data for chromosome chr7 with length 159138663\n",
            "2020-07-22 00:07:54,826 - cnvpytor.root - INFO - Reading data for chromosome chr8 with length 146364022\n",
            "2020-07-22 00:21:20,966 - cnvpytor.root - INFO - Reading data for chromosome chr9 with length 141213431\n",
            "2020-07-22 00:22:01,049 - cnvpytor.root - INFO - Reading data for chromosome chr10 with length 135534747\n",
            "2020-07-22 00:32:21,338 - cnvpytor.root - INFO - Reading data for chromosome chr11 with length 135006516\n",
            "2020-07-22 00:34:36,154 - cnvpytor.root - INFO - Reading data for chromosome chr12 with length 133851895\n",
            "2020-07-22 00:44:32,170 - cnvpytor.root - INFO - Reading data for chromosome chr13 with length 115169878\n",
            "2020-07-22 00:46:35,023 - cnvpytor.root - INFO - Reading data for chromosome chr14 with length 107349540\n",
            "2020-07-22 00:53:17,676 - cnvpytor.root - INFO - Reading data for chromosome chr15 with length 102531392\n",
            "2020-07-22 00:54:45,041 - cnvpytor.root - INFO - Reading data for chromosome chr16 with length 90354753\n",
            "2020-07-22 01:00:55,641 - cnvpytor.root - INFO - Reading data for chromosome chr17 with length 81195210\n",
            "2020-07-22 01:02:39,411 - cnvpytor.root - INFO - Reading data for chromosome chr18 with length 78077248\n",
            "2020-07-22 01:08:04,596 - cnvpytor.root - INFO - Reading data for chromosome chr19 with length 59128983\n",
            "2020-07-22 01:09:39,167 - cnvpytor.root - INFO - Reading data for chromosome chr20 with length 63025520\n",
            "2020-07-22 01:13:17,207 - cnvpytor.root - INFO - Reading data for chromosome chr21 with length 48129895\n",
            "2020-07-22 01:15:06,176 - cnvpytor.root - INFO - Reading data for chromosome chr22 with length 51304566\n",
            "2020-07-22 01:16:55,069 - cnvpytor.root - INFO - Reading data for chromosome chrX with length 155270560\n",
            "2020-07-22 01:18:11,641 - cnvpytor.root - INFO - Reading data for chromosome chrY with length 59373566\n",
            "2020-07-22 01:22:20,632 - cnvpytor.io - INFO - Saving chromosome RD data for chromosome 'chrM'.\n",
            "2020-07-22 01:22:20,654 - cnvpytor.io - INFO - Saving chromosome RD data for chromosome 'chr1'.\n",
            "2020-07-22 01:22:30,208 - cnvpytor.io - INFO - Saving chromosome RD data for chromosome 'chr2'.\n",
            "2020-07-22 01:22:31,823 - cnvpytor.io - INFO - Saving chromosome RD data for chromosome 'chr3'.\n",
            "2020-07-22 01:22:32,985 - cnvpytor.io - INFO - Saving chromosome RD data for chromosome 'chr4'.\n",
            "2020-07-22 01:22:34,079 - cnvpytor.io - INFO - Saving chromosome RD data for chromosome 'chr5'.\n",
            "2020-07-22 01:22:35,071 - cnvpytor.io - INFO - Saving chromosome RD data for chromosome 'chr6'.\n",
            "2020-07-22 01:22:35,964 - cnvpytor.io - INFO - Saving chromosome RD data for chromosome 'chr7'.\n",
            "2020-07-22 01:22:42,432 - cnvpytor.io - INFO - Saving chromosome RD data for chromosome 'chr8'.\n",
            "2020-07-22 01:22:43,113 - cnvpytor.io - INFO - Saving chromosome RD data for chromosome 'chr9'.\n",
            "2020-07-22 01:22:47,604 - cnvpytor.io - INFO - Saving chromosome RD data for chromosome 'chr10'.\n",
            "2020-07-22 01:22:51,985 - cnvpytor.io - INFO - Saving chromosome RD data for chromosome 'chr11'.\n",
            "2020-07-22 01:22:56,328 - cnvpytor.io - INFO - Saving chromosome RD data for chromosome 'chr12'.\n",
            "2020-07-22 01:22:56,944 - cnvpytor.io - INFO - Saving chromosome RD data for chromosome 'chr13'.\n",
            "2020-07-22 01:22:57,336 - cnvpytor.io - INFO - Saving chromosome RD data for chromosome 'chr14'.\n",
            "2020-07-22 01:22:57,694 - cnvpytor.io - INFO - Saving chromosome RD data for chromosome 'chr15'.\n",
            "2020-07-22 01:22:58,026 - cnvpytor.io - INFO - Saving chromosome RD data for chromosome 'chr16'.\n",
            "2020-07-22 01:22:58,489 - cnvpytor.io - INFO - Saving chromosome RD data for chromosome 'chr17'.\n",
            "2020-07-22 01:22:58,931 - cnvpytor.io - INFO - Saving chromosome RD data for chromosome 'chr18'.\n",
            "2020-07-22 01:22:59,303 - cnvpytor.io - INFO - Saving chromosome RD data for chromosome 'chr19'.\n",
            "2020-07-22 01:23:01,063 - cnvpytor.io - INFO - Saving chromosome RD data for chromosome 'chr20'.\n",
            "2020-07-22 01:23:01,320 - cnvpytor.io - INFO - Saving chromosome RD data for chromosome 'chr21'.\n",
            "2020-07-22 01:23:01,468 - cnvpytor.io - INFO - Saving chromosome RD data for chromosome 'chr22'.\n",
            "2020-07-22 01:23:01,623 - cnvpytor.io - INFO - Saving chromosome RD data for chromosome 'chrX'.\n",
            "2020-07-22 01:23:02,628 - cnvpytor.io - INFO - Saving chromosome RD data for chromosome 'chrY'.\n",
            "2020-07-22 01:23:03,612 - cnvpytor.root - INFO - Strict mask for reference genome 'hg19' found in database.\n",
            "2020-07-22 01:23:03,622 - cnvpytor.root - INFO - GC content for reference genome 'hg19' found in database.\n",
            "2020-07-22 01:23:03,896 - cnvpytor.root - INFO - Chromosome 'chr10' stat - RD parity distribution gaussian fit:  53.54 +- 9.55\n",
            "2020-07-22 01:23:03,896 - cnvpytor.root - INFO - Chromosome 'chr10' stat - RD unique distribution gaussian fit:  53.48 +- 9.48\n",
            "2020-07-22 01:23:04,056 - cnvpytor.root - INFO - Chromosome 'chr11' stat - RD parity distribution gaussian fit:  53.66 +- 9.44\n",
            "2020-07-22 01:23:04,056 - cnvpytor.root - INFO - Chromosome 'chr11' stat - RD unique distribution gaussian fit:  53.54 +- 9.46\n",
            "2020-07-22 01:23:04,196 - cnvpytor.root - INFO - Chromosome 'chr12' stat - RD parity distribution gaussian fit:  54.19 +- 9.42\n",
            "2020-07-22 01:23:04,196 - cnvpytor.root - INFO - Chromosome 'chr12' stat - RD unique distribution gaussian fit:  54.07 +- 9.45\n",
            "2020-07-22 01:23:04,304 - cnvpytor.root - INFO - Chromosome 'chr13' stat - RD parity distribution gaussian fit:  54.37 +- 9.18\n",
            "2020-07-22 01:23:04,304 - cnvpytor.root - INFO - Chromosome 'chr13' stat - RD unique distribution gaussian fit:  54.28 +- 9.21\n",
            "2020-07-22 01:23:04,405 - cnvpytor.root - INFO - Chromosome 'chr14' stat - RD parity distribution gaussian fit:  54.19 +- 9.41\n",
            "2020-07-22 01:23:04,405 - cnvpytor.root - INFO - Chromosome 'chr14' stat - RD unique distribution gaussian fit:  54.08 +- 9.44\n",
            "2020-07-22 01:23:04,504 - cnvpytor.root - INFO - Chromosome 'chr15' stat - RD parity distribution gaussian fit:  53.77 +- 9.59\n",
            "2020-07-22 01:23:04,504 - cnvpytor.root - INFO - Chromosome 'chr15' stat - RD unique distribution gaussian fit:  53.60 +- 9.55\n",
            "2020-07-22 01:23:04,594 - cnvpytor.root - INFO - Chromosome 'chr16' stat - RD parity distribution gaussian fit:  52.18 +- 9.49\n",
            "2020-07-22 01:23:04,594 - cnvpytor.root - INFO - Chromosome 'chr16' stat - RD unique distribution gaussian fit:  51.93 +- 9.46\n",
            "2020-07-22 01:23:04,678 - cnvpytor.root - INFO - Chromosome 'chr17' stat - RD parity distribution gaussian fit:  52.08 +- 9.62\n",
            "2020-07-22 01:23:04,678 - cnvpytor.root - INFO - Chromosome 'chr17' stat - RD unique distribution gaussian fit:  51.95 +- 9.61\n",
            "2020-07-22 01:23:04,758 - cnvpytor.root - INFO - Chromosome 'chr18' stat - RD parity distribution gaussian fit:  54.12 +- 9.25\n",
            "2020-07-22 01:23:04,758 - cnvpytor.root - INFO - Chromosome 'chr18' stat - RD unique distribution gaussian fit:  54.00 +- 9.28\n",
            "2020-07-22 01:23:04,836 - cnvpytor.root - INFO - Chromosome 'chr19' stat - RD parity distribution gaussian fit:  50.27 +- 9.53\n",
            "2020-07-22 01:23:04,836 - cnvpytor.root - INFO - Chromosome 'chr19' stat - RD unique distribution gaussian fit:  50.15 +- 9.52\n",
            "2020-07-22 01:23:05,111 - cnvpytor.root - INFO - Chromosome 'chr1' stat - RD parity distribution gaussian fit:  53.74 +- 9.54\n",
            "2020-07-22 01:23:05,111 - cnvpytor.root - INFO - Chromosome 'chr1' stat - RD unique distribution gaussian fit:  53.63 +- 9.53\n",
            "2020-07-22 01:23:05,178 - cnvpytor.root - INFO - Chromosome 'chr20' stat - RD parity distribution gaussian fit:  52.46 +- 9.36\n",
            "2020-07-22 01:23:05,178 - cnvpytor.root - INFO - Chromosome 'chr20' stat - RD unique distribution gaussian fit:  52.39 +- 9.37\n",
            "2020-07-22 01:23:05,225 - cnvpytor.root - INFO - Chromosome 'chr21' stat - RD parity distribution gaussian fit:  53.81 +- 9.47\n",
            "2020-07-22 01:23:05,225 - cnvpytor.root - INFO - Chromosome 'chr21' stat - RD unique distribution gaussian fit:  53.68 +- 9.52\n",
            "2020-07-22 01:23:05,272 - cnvpytor.root - INFO - Chromosome 'chr22' stat - RD parity distribution gaussian fit:  50.72 +- 9.61\n",
            "2020-07-22 01:23:05,272 - cnvpytor.root - INFO - Chromosome 'chr22' stat - RD unique distribution gaussian fit:  50.59 +- 9.56\n",
            "2020-07-22 01:23:05,515 - cnvpytor.root - INFO - Chromosome 'chr2' stat - RD parity distribution gaussian fit:  54.25 +- 9.41\n",
            "2020-07-22 01:23:05,515 - cnvpytor.root - INFO - Chromosome 'chr2' stat - RD unique distribution gaussian fit:  54.13 +- 9.43\n",
            "2020-07-22 01:23:05,717 - cnvpytor.root - INFO - Chromosome 'chr3' stat - RD parity distribution gaussian fit:  54.52 +- 9.23\n",
            "2020-07-22 01:23:05,717 - cnvpytor.root - INFO - Chromosome 'chr3' stat - RD unique distribution gaussian fit:  54.41 +- 9.26\n",
            "2020-07-22 01:23:05,913 - cnvpytor.root - INFO - Chromosome 'chr4' stat - RD parity distribution gaussian fit:  54.76 +- 9.20\n",
            "2020-07-22 01:23:05,913 - cnvpytor.root - INFO - Chromosome 'chr4' stat - RD unique distribution gaussian fit:  54.64 +- 9.23\n",
            "2020-07-22 01:23:06,097 - cnvpytor.root - INFO - Chromosome 'chr5' stat - RD parity distribution gaussian fit:  54.55 +- 9.30\n",
            "2020-07-22 01:23:06,097 - cnvpytor.root - INFO - Chromosome 'chr5' stat - RD unique distribution gaussian fit:  54.40 +- 9.30\n",
            "2020-07-22 01:23:06,271 - cnvpytor.root - INFO - Chromosome 'chr6' stat - RD parity distribution gaussian fit:  54.60 +- 9.29\n",
            "2020-07-22 01:23:06,271 - cnvpytor.root - INFO - Chromosome 'chr6' stat - RD unique distribution gaussian fit:  54.49 +- 9.32\n",
            "2020-07-22 01:23:06,457 - cnvpytor.root - INFO - Chromosome 'chr7' stat - RD parity distribution gaussian fit:  53.87 +- 9.54\n",
            "2020-07-22 01:23:06,457 - cnvpytor.root - INFO - Chromosome 'chr7' stat - RD unique distribution gaussian fit:  53.73 +- 9.55\n",
            "2020-07-22 01:23:06,605 - cnvpytor.root - INFO - Chromosome 'chr8' stat - RD parity distribution gaussian fit:  54.09 +- 9.35\n",
            "2020-07-22 01:23:06,605 - cnvpytor.root - INFO - Chromosome 'chr8' stat - RD unique distribution gaussian fit:  53.98 +- 9.35\n",
            "2020-07-22 01:23:06,762 - cnvpytor.root - INFO - Chromosome 'chr9' stat - RD parity distribution gaussian fit:  53.48 +- 9.74\n",
            "2020-07-22 01:23:06,762 - cnvpytor.root - INFO - Chromosome 'chr9' stat - RD unique distribution gaussian fit:  53.36 +- 9.53\n",
            "2020-07-22 01:23:07,403 - cnvpytor.root - INFO - Chromosome 'chrM' stat - RD parity distribution gaussian fit:  12492.21 +- 1035.65\n",
            "2020-07-22 01:23:07,403 - cnvpytor.root - INFO - Chromosome 'chrM' stat - RD unique distribution gaussian fit:  12468.55 +- 1044.71\n",
            "2020-07-22 01:23:07,549 - cnvpytor.root - INFO - Chromosome 'chrX' stat - RD parity distribution gaussian fit:  26.86 +- 5.98\n",
            "2020-07-22 01:23:07,549 - cnvpytor.root - INFO - Chromosome 'chrX' stat - RD unique distribution gaussian fit:  26.74 +- 5.97\n",
            "2020-07-22 01:23:07,591 - cnvpytor.root - INFO - Chromosome 'chrY' stat - RD parity distribution gaussian fit:  26.53 +- 6.06\n",
            "2020-07-22 01:23:07,591 - cnvpytor.root - INFO - Chromosome 'chrY' stat - RD unique distribution gaussian fit:  26.37 +- 6.28\n",
            "2020-07-22 01:23:07,592 - cnvpytor.root - INFO - Chromosome 'chr10' stat \n",
            "2020-07-22 01:23:07,929 - cnvpytor.root - INFO - Chromosome 'chr11' stat \n",
            "2020-07-22 01:23:08,245 - cnvpytor.root - INFO - Chromosome 'chr12' stat \n",
            "2020-07-22 01:23:08,539 - cnvpytor.root - INFO - Chromosome 'chr13' stat \n",
            "2020-07-22 01:23:08,769 - cnvpytor.root - INFO - Chromosome 'chr14' stat \n",
            "2020-07-22 01:23:08,989 - cnvpytor.root - INFO - Chromosome 'chr15' stat \n",
            "2020-07-22 01:23:09,194 - cnvpytor.root - INFO - Chromosome 'chr16' stat \n",
            "2020-07-22 01:23:09,386 - cnvpytor.root - INFO - Chromosome 'chr17' stat \n",
            "2020-07-22 01:23:09,570 - cnvpytor.root - INFO - Chromosome 'chr18' stat \n",
            "2020-07-22 01:23:09,741 - cnvpytor.root - INFO - Chromosome 'chr19' stat \n",
            "2020-07-22 01:23:09,882 - cnvpytor.root - INFO - Chromosome 'chr1' stat \n",
            "2020-07-22 01:23:10,438 - cnvpytor.root - INFO - Chromosome 'chr20' stat \n",
            "2020-07-22 01:23:10,576 - cnvpytor.root - INFO - Chromosome 'chr21' stat \n",
            "2020-07-22 01:23:10,667 - cnvpytor.root - INFO - Chromosome 'chr22' stat \n",
            "2020-07-22 01:23:10,764 - cnvpytor.root - INFO - Chromosome 'chr2' stat \n",
            "2020-07-22 01:23:11,294 - cnvpytor.root - INFO - Chromosome 'chr3' stat \n",
            "2020-07-22 01:23:11,726 - cnvpytor.root - INFO - Chromosome 'chr4' stat \n",
            "2020-07-22 01:23:12,145 - cnvpytor.root - INFO - Chromosome 'chr5' stat \n",
            "2020-07-22 01:23:12,538 - cnvpytor.root - INFO - Chromosome 'chr6' stat \n",
            "2020-07-22 01:23:12,915 - cnvpytor.root - INFO - Chromosome 'chr7' stat \n",
            "2020-07-22 01:23:13,287 - cnvpytor.root - INFO - Chromosome 'chr8' stat \n",
            "2020-07-22 01:23:13,604 - cnvpytor.root - INFO - Chromosome 'chr9' stat \n",
            "2020-07-22 01:23:13,920 - cnvpytor.root - INFO - Chromosome 'chrM' stat \n",
            "2020-07-22 01:23:13,924 - cnvpytor.root - INFO - Chromosome 'chrX' stat \n",
            "2020-07-22 01:23:14,247 - cnvpytor.root - INFO - Chromosome 'chrY' stat \n",
            "2020-07-22 01:23:14,332 - cnvpytor.root - INFO - Autosomes stat - RD parity distribution gaussian fit:  53.88 +- 9.46\n",
            "2020-07-22 01:23:14,435 - cnvpytor.root - INFO - Sex chromosomes stat - RD parity distribution gaussian fit:  26.82 +- 5.99\n",
            "2020-07-22 01:23:14,479 - cnvpytor.root - INFO - Mitochondria stat - RD parity distribution gaussian fit:  12147.34 +- 1111.80\n",
            "2020-07-22 01:23:14,479 - cnvpytor.root - INFO - Mitochondria stat - number of mitochondria per cell:  450.88 +- 80.84\n"
          ],
          "name": "stdout"
        }
      ]
    },
    {
      "cell_type": "code",
      "metadata": {
        "id": "89nt8RFyLINs",
        "colab_type": "code",
        "colab": {
          "base_uri": "https://localhost:8080/",
          "height": 1000
        },
        "outputId": "4e8a6af1-90f5-494d-a234-f15c8f20724a"
      },
      "source": [
        "# Histogram Step using bin size-100000\n",
        "!cnvpytor -root NA12877.pytor -his 100000"
      ],
      "execution_count": null,
      "outputs": [
        {
          "output_type": "stream",
          "text": [
            "2020-07-22 01:39:35,542 - cnvpytor.root - INFO - Calculating histograms using bin size 100000 for chromosome 'chrM'.\n",
            "2020-07-22 01:39:35,575 - cnvpytor.root - INFO - Chromosome 'chrM' bin size 100000 stat - RD parity distribution gaussian fit:  2016000.00 +- 0.00\n",
            "2020-07-22 01:39:35,575 - cnvpytor.root - INFO - Chromosome 'chrM' bin size 100000 stat - RD unique distribution gaussian fit:  1989792.00 +- 0.00\n",
            "2020-07-22 01:39:35,575 - cnvpytor.root - INFO - Calculating histograms using bin size 100000 for chromosome 'chr1'.\n",
            "2020-07-22 01:39:35,824 - cnvpytor.root - INFO - Chromosome 'chr1' bin size 100000 stat - RD parity distribution gaussian fit:  54450.67 +- 2146.76\n",
            "2020-07-22 01:39:35,824 - cnvpytor.root - INFO - Chromosome 'chr1' bin size 100000 stat - RD unique distribution gaussian fit:  54055.06 +- 2159.76\n",
            "2020-07-22 01:39:35,824 - cnvpytor.root - INFO - Calculating histograms using bin size 100000 for chromosome 'chr2'.\n",
            "2020-07-22 01:39:35,976 - cnvpytor.root - INFO - Chromosome 'chr2' bin size 100000 stat - RD parity distribution gaussian fit:  54897.18 +- 1585.36\n",
            "2020-07-22 01:39:35,976 - cnvpytor.root - INFO - Chromosome 'chr2' bin size 100000 stat - RD unique distribution gaussian fit:  54552.81 +- 1703.08\n",
            "2020-07-22 01:39:35,976 - cnvpytor.root - INFO - Calculating histograms using bin size 100000 for chromosome 'chr3'.\n",
            "2020-07-22 01:39:36,109 - cnvpytor.root - INFO - Chromosome 'chr3' bin size 100000 stat - RD parity distribution gaussian fit:  55007.24 +- 1469.84\n",
            "2020-07-22 01:39:36,109 - cnvpytor.root - INFO - Chromosome 'chr3' bin size 100000 stat - RD unique distribution gaussian fit:  54621.70 +- 1541.01\n",
            "2020-07-22 01:39:36,109 - cnvpytor.root - INFO - Calculating histograms using bin size 100000 for chromosome 'chr4'.\n",
            "2020-07-22 01:39:36,234 - cnvpytor.root - INFO - Chromosome 'chr4' bin size 100000 stat - RD parity distribution gaussian fit:  55075.96 +- 1268.31\n",
            "2020-07-22 01:39:36,234 - cnvpytor.root - INFO - Chromosome 'chr4' bin size 100000 stat - RD unique distribution gaussian fit:  54731.28 +- 1309.32\n",
            "2020-07-22 01:39:36,235 - cnvpytor.root - INFO - Calculating histograms using bin size 100000 for chromosome 'chr5'.\n",
            "2020-07-22 01:39:36,358 - cnvpytor.root - INFO - Chromosome 'chr5' bin size 100000 stat - RD parity distribution gaussian fit:  55063.37 +- 1397.43\n",
            "2020-07-22 01:39:36,358 - cnvpytor.root - INFO - Chromosome 'chr5' bin size 100000 stat - RD unique distribution gaussian fit:  54687.72 +- 1457.06\n",
            "2020-07-22 01:39:36,358 - cnvpytor.root - INFO - Calculating histograms using bin size 100000 for chromosome 'chr6'.\n",
            "2020-07-22 01:39:36,471 - cnvpytor.root - INFO - Chromosome 'chr6' bin size 100000 stat - RD parity distribution gaussian fit:  55094.90 +- 1380.84\n",
            "2020-07-22 01:39:36,471 - cnvpytor.root - INFO - Chromosome 'chr6' bin size 100000 stat - RD unique distribution gaussian fit:  54709.10 +- 1488.74\n",
            "2020-07-22 01:39:36,471 - cnvpytor.root - INFO - Calculating histograms using bin size 100000 for chromosome 'chr7'.\n",
            "2020-07-22 01:39:36,626 - cnvpytor.root - INFO - Chromosome 'chr7' bin size 100000 stat - RD parity distribution gaussian fit:  54783.34 +- 1748.23\n",
            "2020-07-22 01:39:36,627 - cnvpytor.root - INFO - Chromosome 'chr7' bin size 100000 stat - RD unique distribution gaussian fit:  54391.90 +- 1895.56\n",
            "2020-07-22 01:39:36,627 - cnvpytor.root - INFO - Calculating histograms using bin size 100000 for chromosome 'chr8'.\n",
            "2020-07-22 01:39:36,747 - cnvpytor.root - INFO - Chromosome 'chr8' bin size 100000 stat - RD parity distribution gaussian fit:  54713.31 +- 1586.61\n",
            "2020-07-22 01:39:36,747 - cnvpytor.root - INFO - Chromosome 'chr8' bin size 100000 stat - RD unique distribution gaussian fit:  54339.79 +- 1584.77\n",
            "2020-07-22 01:39:36,747 - cnvpytor.root - INFO - Calculating histograms using bin size 100000 for chromosome 'chr9'.\n",
            "2020-07-22 01:39:36,887 - cnvpytor.root - INFO - Chromosome 'chr9' bin size 100000 stat - RD parity distribution gaussian fit:  54390.12 +- 1557.97\n",
            "2020-07-22 01:39:36,887 - cnvpytor.root - INFO - Chromosome 'chr9' bin size 100000 stat - RD unique distribution gaussian fit:  54035.15 +- 1606.82\n",
            "2020-07-22 01:39:36,887 - cnvpytor.root - INFO - Calculating histograms using bin size 100000 for chromosome 'chr10'.\n",
            "2020-07-22 01:39:37,028 - cnvpytor.root - INFO - Chromosome 'chr10' bin size 100000 stat - RD parity distribution gaussian fit:  54273.78 +- 1861.79\n",
            "2020-07-22 01:39:37,028 - cnvpytor.root - INFO - Chromosome 'chr10' bin size 100000 stat - RD unique distribution gaussian fit:  53886.35 +- 1987.66\n",
            "2020-07-22 01:39:37,028 - cnvpytor.root - INFO - Calculating histograms using bin size 100000 for chromosome 'chr11'.\n",
            "2020-07-22 01:39:37,167 - cnvpytor.root - INFO - Chromosome 'chr11' bin size 100000 stat - RD parity distribution gaussian fit:  54589.16 +- 2060.90\n",
            "2020-07-22 01:39:37,167 - cnvpytor.root - INFO - Chromosome 'chr11' bin size 100000 stat - RD unique distribution gaussian fit:  54085.01 +- 2166.42\n",
            "2020-07-22 01:39:37,167 - cnvpytor.root - INFO - Calculating histograms using bin size 100000 for chromosome 'chr12'.\n",
            "2020-07-22 01:39:37,275 - cnvpytor.root - INFO - Chromosome 'chr12' bin size 100000 stat - RD parity distribution gaussian fit:  55015.19 +- 1817.41\n",
            "2020-07-22 01:39:37,276 - cnvpytor.root - INFO - Chromosome 'chr12' bin size 100000 stat - RD unique distribution gaussian fit:  54546.06 +- 1953.67\n",
            "2020-07-22 01:39:37,276 - cnvpytor.root - INFO - Calculating histograms using bin size 100000 for chromosome 'chr13'.\n",
            "2020-07-22 01:39:37,378 - cnvpytor.root - INFO - Chromosome 'chr13' bin size 100000 stat - RD parity distribution gaussian fit:  54730.01 +- 1086.28\n",
            "2020-07-22 01:39:37,378 - cnvpytor.root - INFO - Chromosome 'chr13' bin size 100000 stat - RD unique distribution gaussian fit:  54479.94 +- 1226.96\n",
            "2020-07-22 01:39:37,378 - cnvpytor.root - INFO - Calculating histograms using bin size 100000 for chromosome 'chr14'.\n",
            "2020-07-22 01:39:37,489 - cnvpytor.root - INFO - Chromosome 'chr14' bin size 100000 stat - RD parity distribution gaussian fit:  54856.36 +- 1538.04\n",
            "2020-07-22 01:39:37,489 - cnvpytor.root - INFO - Chromosome 'chr14' bin size 100000 stat - RD unique distribution gaussian fit:  54447.90 +- 1602.84\n",
            "2020-07-22 01:39:37,489 - cnvpytor.root - INFO - Calculating histograms using bin size 100000 for chromosome 'chr15'.\n",
            "2020-07-22 01:39:37,590 - cnvpytor.root - INFO - Chromosome 'chr15' bin size 100000 stat - RD parity distribution gaussian fit:  54222.18 +- 2105.06\n",
            "2020-07-22 01:39:37,590 - cnvpytor.root - INFO - Chromosome 'chr15' bin size 100000 stat - RD unique distribution gaussian fit:  53848.08 +- 2147.54\n",
            "2020-07-22 01:39:37,590 - cnvpytor.root - INFO - Calculating histograms using bin size 100000 for chromosome 'chr16'.\n",
            "2020-07-22 01:39:37,683 - cnvpytor.root - INFO - Chromosome 'chr16' bin size 100000 stat - RD parity distribution gaussian fit:  52625.78 +- 2022.00\n",
            "2020-07-22 01:39:37,683 - cnvpytor.root - INFO - Chromosome 'chr16' bin size 100000 stat - RD unique distribution gaussian fit:  52407.94 +- 1975.25\n",
            "2020-07-22 01:39:37,683 - cnvpytor.root - INFO - Calculating histograms using bin size 100000 for chromosome 'chr17'.\n",
            "2020-07-22 01:39:37,775 - cnvpytor.root - INFO - Chromosome 'chr17' bin size 100000 stat - RD parity distribution gaussian fit:  52500.64 +- 2792.02\n",
            "2020-07-22 01:39:37,775 - cnvpytor.root - INFO - Chromosome 'chr17' bin size 100000 stat - RD unique distribution gaussian fit:  52117.10 +- 2823.59\n",
            "2020-07-22 01:39:37,775 - cnvpytor.root - INFO - Calculating histograms using bin size 100000 for chromosome 'chr18'.\n",
            "2020-07-22 01:39:37,870 - cnvpytor.root - INFO - Chromosome 'chr18' bin size 100000 stat - RD parity distribution gaussian fit:  54450.78 +- 1319.62\n",
            "2020-07-22 01:39:37,870 - cnvpytor.root - INFO - Chromosome 'chr18' bin size 100000 stat - RD unique distribution gaussian fit:  54203.32 +- 1461.26\n",
            "2020-07-22 01:39:37,870 - cnvpytor.root - INFO - Calculating histograms using bin size 100000 for chromosome 'chr19'.\n",
            "2020-07-22 01:39:37,964 - cnvpytor.root - INFO - Chromosome 'chr19' bin size 100000 stat - RD parity distribution gaussian fit:  50302.52 +- 2763.48\n",
            "2020-07-22 01:39:37,964 - cnvpytor.root - INFO - Chromosome 'chr19' bin size 100000 stat - RD unique distribution gaussian fit:  50047.15 +- 2623.77\n",
            "2020-07-22 01:39:37,964 - cnvpytor.root - INFO - Calculating histograms using bin size 100000 for chromosome 'chr20'.\n",
            "2020-07-22 01:39:38,053 - cnvpytor.root - INFO - Chromosome 'chr20' bin size 100000 stat - RD parity distribution gaussian fit:  53040.97 +- 2191.28\n",
            "2020-07-22 01:39:38,053 - cnvpytor.root - INFO - Chromosome 'chr20' bin size 100000 stat - RD unique distribution gaussian fit:  52761.50 +- 2173.07\n",
            "2020-07-22 01:39:38,053 - cnvpytor.root - INFO - Calculating histograms using bin size 100000 for chromosome 'chr21'.\n",
            "2020-07-22 01:39:38,147 - cnvpytor.root - INFO - Chromosome 'chr21' bin size 100000 stat - RD parity distribution gaussian fit:  54620.64 +- 1893.32\n",
            "2020-07-22 01:39:38,148 - cnvpytor.root - INFO - Chromosome 'chr21' bin size 100000 stat - RD unique distribution gaussian fit:  54289.08 +- 2100.45\n",
            "2020-07-22 01:39:38,148 - cnvpytor.root - INFO - Calculating histograms using bin size 100000 for chromosome 'chr22'.\n",
            "2020-07-22 01:39:38,222 - cnvpytor.root - INFO - Chromosome 'chr22' bin size 100000 stat - RD parity distribution gaussian fit:  51089.42 +- 2500.26\n",
            "2020-07-22 01:39:38,222 - cnvpytor.root - INFO - Chromosome 'chr22' bin size 100000 stat - RD unique distribution gaussian fit:  50810.57 +- 2520.90\n",
            "2020-07-22 01:39:38,222 - cnvpytor.root - INFO - Calculating histograms using bin size 100000 for chromosome 'chrX'.\n",
            "2020-07-22 01:39:38,336 - cnvpytor.root - INFO - Chromosome 'chrX' bin size 100000 stat - RD parity distribution gaussian fit:  27371.00 +- 801.63\n",
            "2020-07-22 01:39:38,336 - cnvpytor.root - INFO - Chromosome 'chrX' bin size 100000 stat - RD unique distribution gaussian fit:  26999.31 +- 759.42\n",
            "2020-07-22 01:39:38,336 - cnvpytor.root - INFO - Calculating histograms using bin size 100000 for chromosome 'chrY'.\n",
            "2020-07-22 01:39:38,424 - cnvpytor.root - INFO - Chromosome 'chrY' bin size 100000 stat - RD parity distribution gaussian fit:  27009.87 +- 1112.84\n",
            "2020-07-22 01:39:38,424 - cnvpytor.root - INFO - Chromosome 'chrY' bin size 100000 stat - RD unique distribution gaussian fit:  26659.70 +- 1324.15\n",
            "2020-07-22 01:39:38,425 - cnvpytor.root - INFO - Calculating global statistics.\n",
            "2020-07-22 01:39:39,483 - cnvpytor.root - INFO - Autosomes stat - RD parity distribution gaussian fit:  54563.64 +- 1741.49\n",
            "2020-07-22 01:39:39,510 - cnvpytor.root - INFO - Sex chromosomes stat - RD parity distribution gaussian fit:  27286.75 +- 839.78\n",
            "2020-07-22 01:39:39,523 - cnvpytor.root - INFO - Calculating GC corrected RD histogram using bin size 100000 for chromosome 'chr1'.\n",
            "2020-07-22 01:39:39,600 - cnvpytor.root - INFO - Calculating GC corrected RD histogram using bin size 100000 for chromosome 'chr2'.\n",
            "2020-07-22 01:39:39,673 - cnvpytor.root - INFO - Calculating GC corrected RD histogram using bin size 100000 for chromosome 'chr3'.\n",
            "2020-07-22 01:39:39,736 - cnvpytor.root - INFO - Calculating GC corrected RD histogram using bin size 100000 for chromosome 'chr4'.\n",
            "2020-07-22 01:39:39,802 - cnvpytor.root - INFO - Calculating GC corrected RD histogram using bin size 100000 for chromosome 'chr5'.\n",
            "2020-07-22 01:39:39,862 - cnvpytor.root - INFO - Calculating GC corrected RD histogram using bin size 100000 for chromosome 'chr6'.\n",
            "2020-07-22 01:39:39,917 - cnvpytor.root - INFO - Calculating GC corrected RD histogram using bin size 100000 for chromosome 'chr7'.\n",
            "2020-07-22 01:39:39,970 - cnvpytor.root - INFO - Calculating GC corrected RD histogram using bin size 100000 for chromosome 'chr8'.\n",
            "2020-07-22 01:39:40,020 - cnvpytor.root - INFO - Calculating GC corrected RD histogram using bin size 100000 for chromosome 'chr9'.\n",
            "2020-07-22 01:39:40,067 - cnvpytor.root - INFO - Calculating GC corrected RD histogram using bin size 100000 for chromosome 'chr10'.\n",
            "2020-07-22 01:39:40,113 - cnvpytor.root - INFO - Calculating GC corrected RD histogram using bin size 100000 for chromosome 'chr11'.\n",
            "2020-07-22 01:39:40,164 - cnvpytor.root - INFO - Calculating GC corrected RD histogram using bin size 100000 for chromosome 'chr12'.\n",
            "2020-07-22 01:39:40,208 - cnvpytor.root - INFO - Calculating GC corrected RD histogram using bin size 100000 for chromosome 'chr13'.\n",
            "2020-07-22 01:39:40,246 - cnvpytor.root - INFO - Calculating GC corrected RD histogram using bin size 100000 for chromosome 'chr14'.\n",
            "2020-07-22 01:39:40,282 - cnvpytor.root - INFO - Calculating GC corrected RD histogram using bin size 100000 for chromosome 'chr15'.\n",
            "2020-07-22 01:39:40,314 - cnvpytor.root - INFO - Calculating GC corrected RD histogram using bin size 100000 for chromosome 'chr16'.\n",
            "2020-07-22 01:39:40,343 - cnvpytor.root - INFO - Calculating GC corrected RD histogram using bin size 100000 for chromosome 'chr17'.\n",
            "2020-07-22 01:39:40,369 - cnvpytor.root - INFO - Calculating GC corrected RD histogram using bin size 100000 for chromosome 'chr18'.\n",
            "2020-07-22 01:39:40,394 - cnvpytor.root - INFO - Calculating GC corrected RD histogram using bin size 100000 for chromosome 'chr19'.\n",
            "2020-07-22 01:39:40,415 - cnvpytor.root - INFO - Calculating GC corrected RD histogram using bin size 100000 for chromosome 'chr20'.\n",
            "2020-07-22 01:39:40,436 - cnvpytor.root - INFO - Calculating GC corrected RD histogram using bin size 100000 for chromosome 'chr21'.\n",
            "2020-07-22 01:39:40,453 - cnvpytor.root - INFO - Calculating GC corrected RD histogram using bin size 100000 for chromosome 'chr22'.\n",
            "2020-07-22 01:39:40,472 - cnvpytor.root - INFO - Calculating GC corrected RD histogram using bin size 100000 for chromosome 'chrX'.\n",
            "2020-07-22 01:39:40,523 - cnvpytor.root - INFO - Calculating GC corrected RD histogram using bin size 100000 for chromosome 'chrY'.\n",
            "2020-07-22 01:39:40,546 - cnvpytor.root - INFO - Autosomes stat - RD parity distribution gaussian fit after GC correction:  53929.26 +- 1214.93\n",
            "2020-07-22 01:39:40,552 - cnvpytor.root - INFO - Sex chromosomes stat - RD parity distribution gaussian fit after GC correction:  26967.53 +- 802.96\n",
            "2020-07-22 01:39:40,554 - cnvpytor.root - INFO - Calculating P-mask histograms using bin size 100000 for chromosome 'chr1'.\n",
            "2020-07-22 01:39:43,674 - cnvpytor.root - INFO - Calculating P-mask histograms using bin size 100000 for chromosome 'chr2'.\n",
            "2020-07-22 01:39:47,041 - cnvpytor.root - INFO - Calculating P-mask histograms using bin size 100000 for chromosome 'chr3'.\n",
            "2020-07-22 01:39:49,893 - cnvpytor.root - INFO - Calculating P-mask histograms using bin size 100000 for chromosome 'chr4'.\n",
            "2020-07-22 01:39:52,608 - cnvpytor.root - INFO - Calculating P-mask histograms using bin size 100000 for chromosome 'chr5'.\n",
            "2020-07-22 01:39:55,046 - cnvpytor.root - INFO - Calculating P-mask histograms using bin size 100000 for chromosome 'chr6'.\n",
            "2020-07-22 01:39:57,404 - cnvpytor.root - INFO - Calculating P-mask histograms using bin size 100000 for chromosome 'chr7'.\n",
            "2020-07-22 01:39:59,488 - cnvpytor.root - INFO - Calculating P-mask histograms using bin size 100000 for chromosome 'chr8'.\n",
            "2020-07-22 01:40:01,648 - cnvpytor.root - INFO - Calculating P-mask histograms using bin size 100000 for chromosome 'chr9'.\n",
            "2020-07-22 01:40:03,154 - cnvpytor.root - INFO - Calculating P-mask histograms using bin size 100000 for chromosome 'chr10'.\n",
            "2020-07-22 01:40:04,908 - cnvpytor.root - INFO - Calculating P-mask histograms using bin size 100000 for chromosome 'chr11'.\n",
            "2020-07-22 01:40:06,772 - cnvpytor.root - INFO - Calculating P-mask histograms using bin size 100000 for chromosome 'chr12'.\n",
            "2020-07-22 01:40:08,607 - cnvpytor.root - INFO - Calculating P-mask histograms using bin size 100000 for chromosome 'chr13'.\n",
            "2020-07-22 01:40:09,992 - cnvpytor.root - INFO - Calculating P-mask histograms using bin size 100000 for chromosome 'chr14'.\n",
            "2020-07-22 01:40:11,251 - cnvpytor.root - INFO - Calculating P-mask histograms using bin size 100000 for chromosome 'chr15'.\n",
            "2020-07-22 01:40:12,358 - cnvpytor.root - INFO - Calculating P-mask histograms using bin size 100000 for chromosome 'chr16'.\n",
            "2020-07-22 01:40:13,347 - cnvpytor.root - INFO - Calculating P-mask histograms using bin size 100000 for chromosome 'chr17'.\n",
            "2020-07-22 01:40:14,353 - cnvpytor.root - INFO - Calculating P-mask histograms using bin size 100000 for chromosome 'chr18'.\n",
            "2020-07-22 01:40:15,394 - cnvpytor.root - INFO - Calculating P-mask histograms using bin size 100000 for chromosome 'chr19'.\n",
            "2020-07-22 01:40:16,075 - cnvpytor.root - INFO - Calculating P-mask histograms using bin size 100000 for chromosome 'chr20'.\n",
            "2020-07-22 01:40:16,933 - cnvpytor.root - INFO - Calculating P-mask histograms using bin size 100000 for chromosome 'chr21'.\n",
            "2020-07-22 01:40:17,399 - cnvpytor.root - INFO - Calculating P-mask histograms using bin size 100000 for chromosome 'chr22'.\n",
            "2020-07-22 01:40:17,834 - cnvpytor.root - INFO - Calculating P-mask histograms using bin size 100000 for chromosome 'chrX'.\n",
            "2020-07-22 01:40:19,832 - cnvpytor.root - INFO - Calculating P-mask histograms using bin size 100000 for chromosome 'chrY'.\n"
          ],
          "name": "stdout"
        }
      ]
    },
    {
      "cell_type": "code",
      "metadata": {
        "id": "r7A4yok2PrhX",
        "colab_type": "code",
        "colab": {
          "base_uri": "https://localhost:8080/",
          "height": 434
        },
        "outputId": "391bb10b-fb66-4cfa-d7a2-a3b99f2f7c04"
      },
      "source": [
        "# Partition Step\n",
        "!cnvpytor -root NA12877.pytor -partition 100000"
      ],
      "execution_count": null,
      "outputs": [
        {
          "output_type": "stream",
          "text": [
            "2020-07-22 01:59:55,255 - cnvpytor.root - INFO - Calculating partition using bin size 100000 for chromosome 'chr1'.\n",
            "2020-07-22 01:59:56,982 - cnvpytor.root - INFO - Calculating partition using bin size 100000 for chromosome 'chr2'.\n",
            "2020-07-22 01:59:58,675 - cnvpytor.root - INFO - Calculating partition using bin size 100000 for chromosome 'chr3'.\n",
            "2020-07-22 02:00:00,101 - cnvpytor.root - INFO - Calculating partition using bin size 100000 for chromosome 'chr4'.\n",
            "2020-07-22 02:00:01,548 - cnvpytor.root - INFO - Calculating partition using bin size 100000 for chromosome 'chr5'.\n",
            "2020-07-22 02:00:02,961 - cnvpytor.root - INFO - Calculating partition using bin size 100000 for chromosome 'chr6'.\n",
            "2020-07-22 02:00:04,409 - cnvpytor.root - INFO - Calculating partition using bin size 100000 for chromosome 'chr7'.\n",
            "2020-07-22 02:00:05,770 - cnvpytor.root - INFO - Calculating partition using bin size 100000 for chromosome 'chr8'.\n",
            "2020-07-22 02:00:07,050 - cnvpytor.root - INFO - Calculating partition using bin size 100000 for chromosome 'chr9'.\n",
            "2020-07-22 02:00:08,243 - cnvpytor.root - INFO - Calculating partition using bin size 100000 for chromosome 'chr10'.\n",
            "2020-07-22 02:00:09,504 - cnvpytor.root - INFO - Calculating partition using bin size 100000 for chromosome 'chr11'.\n",
            "2020-07-22 02:00:10,670 - cnvpytor.root - INFO - Calculating partition using bin size 100000 for chromosome 'chr12'.\n",
            "2020-07-22 02:00:11,818 - cnvpytor.root - INFO - Calculating partition using bin size 100000 for chromosome 'chr13'.\n",
            "2020-07-22 02:00:12,884 - cnvpytor.root - INFO - Calculating partition using bin size 100000 for chromosome 'chr14'.\n",
            "2020-07-22 02:00:13,998 - cnvpytor.root - INFO - Calculating partition using bin size 100000 for chromosome 'chr15'.\n",
            "2020-07-22 02:00:15,094 - cnvpytor.root - INFO - Calculating partition using bin size 100000 for chromosome 'chr16'.\n",
            "2020-07-22 02:00:16,020 - cnvpytor.root - INFO - Calculating partition using bin size 100000 for chromosome 'chr17'.\n",
            "2020-07-22 02:00:17,005 - cnvpytor.root - INFO - Calculating partition using bin size 100000 for chromosome 'chr18'.\n",
            "2020-07-22 02:00:17,949 - cnvpytor.root - INFO - Calculating partition using bin size 100000 for chromosome 'chr19'.\n",
            "2020-07-22 02:00:18,779 - cnvpytor.root - INFO - Calculating partition using bin size 100000 for chromosome 'chr20'.\n",
            "2020-07-22 02:00:19,609 - cnvpytor.root - INFO - Calculating partition using bin size 100000 for chromosome 'chr21'.\n",
            "2020-07-22 02:00:20,327 - cnvpytor.root - INFO - Calculating partition using bin size 100000 for chromosome 'chr22'.\n",
            "2020-07-22 02:00:21,017 - cnvpytor.root - INFO - Calculating partition using bin size 100000 for chromosome 'chrX'.\n",
            "2020-07-22 02:00:22,408 - cnvpytor.root - INFO - Calculating partition using bin size 100000 for chromosome 'chrY'.\n"
          ],
          "name": "stdout"
        }
      ]
    },
    {
      "cell_type": "code",
      "metadata": {
        "id": "D3NSKofpP1e_",
        "colab_type": "code",
        "colab": {
          "base_uri": "https://localhost:8080/",
          "height": 1000
        },
        "outputId": "413f68e1-24eb-4177-a291-fa7675f6ed18"
      },
      "source": [
        "# CALL step \n",
        "!cnvpytor -root NA12877.pytor -call 100000"
      ],
      "execution_count": null,
      "outputs": [
        {
          "output_type": "stream",
          "text": [
            "deletion\tchr1:100001-500000\t400000\t0.6377\t3.758628e+01\t1.773045e-45\t3.758628e+01\t1.773045e-45\t0.8042\t0.3216\t\n",
            "deletion\tchr1:3800001-4000000\t200000\t0.2455\t8.511589e+02\t0.000000e+00\t8.511589e+02\t0.000000e+00\t0.0056\t0.7500\t\n",
            "deletion\tchr1:13000001-13800000\t800000\t0.4943\t1.114888e+00\t3.070325e-04\t1.114888e+00\t3.070325e-04\t0.7190\t0.2500\t\n",
            "deletion\tchr1:29800001-30100000\t300000\t0.5038\t6.585198e+02\t0.000000e+00\t6.585198e+02\t0.000000e+00\t0.0003\t0.5000\t\n",
            "deletion\tchr1:120900001-142500000\t21600000\t0.1814\t9.112777e-06\t2.871000e+09\t9.112777e-06\t2.871000e+09\t0.1802\t0.9798\t\n",
            "deletion\tchr1:143600001-143900000\t300000\t0.5178\t3.957738e+02\t3.905792e-13\t3.957738e+02\t3.905792e-13\t0.6620\t0.4818\t\n",
            "deletion\tchr1:145800001-146300000\t500000\t0.5397\t1.471721e+01\t0.000000e+00\t1.471721e+01\t0.000000e+00\t0.8111\t0.2934\t\n",
            "deletion\tchr1:149400001-149600000\t200000\t0.5194\t4.745590e+02\t0.000000e+00\t4.745590e+02\t0.000000e+00\t0.6869\t0.2500\t\n",
            "deletion\tchr2:5000001-5200000\t200000\t0.4798\t1.783462e+03\t0.000000e+00\t1.783462e+03\t0.000000e+00\t0.0135\t0.5000\t\n",
            "deletion\tchr2:16200001-16400000\t200000\t0.7085\t3.605011e+02\t0.000000e+00\t3.605011e+02\t0.000000e+00\t0.0015\t0.2500\t\n",
            "deletion\tchr2:89100001-89800000\t700000\t0.4001\t1.621351e+00\t0.000000e+00\t1.621351e+00\t0.000000e+00\t0.2736\t0.2422\t\n",
            "deletion\tchr2:90600001-91500000\t900000\t0.0000\t0.000000e+00\t0.000000e+00\t0.000000e+00\t0.000000e+00\t-1.0000\t1.0000\t\n",
            "deletion\tchr3:26000001-26200000\t200000\t0.6669\t1.561064e+02\t0.000000e+00\t1.561064e+02\t0.000000e+00\t0.0021\t0.0000\t\n",
            "deletion\tchr3:90500001-93500000\t3000000\t0.0022\t0.000000e+00\t0.000000e+00\t0.000000e+00\t0.000000e+00\t0.0061\t0.9984\t\n",
            "deletion\tchr4:49700001-52600000\t2900000\t0.0000\t0.000000e+00\t0.000000e+00\t0.000000e+00\t0.000000e+00\t-1.0000\t1.0000\t\n",
            "duplication\tchr5:17600001-18500000\t900000\t0.9738\t1.833402e-02\t2.676579e+04\t1.833402e-02\t2.676579e+04\t0.0074\t0.0000\t\n",
            "deletion\tchr5:46400001-49400000\t3000000\t0.0019\t0.000000e+00\t0.000000e+00\t0.000000e+00\t0.000000e+00\t0.0059\t0.9981\t\n",
            "duplication\tchr5:49600001-53300000\t3700000\t0.9927\t2.303778e-02\t2.376126e+03\t2.303778e-02\t2.376126e+03\t0.0066\t0.0000\t\n",
            "duplication\tchr5:68900001-70600000\t1700000\t1.3360\t3.200636e-03\t2.871000e+09\t3.200636e-03\t2.871000e+09\t0.8868\t0.0000\t\n",
            "deletion\tchr6:32400001-32700000\t300000\t0.6348\t1.826870e+01\t0.000000e+00\t1.826870e+01\t0.000000e+00\t0.0145\t0.0000\t\n",
            "deletion\tchr6:58000001-58200000\t200000\t0.7211\t7.888300e+02\t0.000000e+00\t7.888300e+02\t0.000000e+00\t0.0645\t0.2500\t\n",
            "deletion\tchr6:58800001-61900000\t3100000\t0.0068\t0.000000e+00\t0.000000e+00\t0.000000e+00\t0.000000e+00\t0.0260\t0.9936\t\n",
            "deletion\tchr6:95600001-95900000\t300000\t0.4912\t6.138535e+02\t0.000000e+00\t6.138535e+02\t0.000000e+00\t0.0149\t0.5000\t\n",
            "deletion\tchr6:157500001-157700000\t200000\t0.5039\t6.597443e+02\t0.000000e+00\t6.597443e+02\t0.000000e+00\t0.0000\t0.5000\t\n",
            "deletion\tchr6:167900001-168100000\t200000\t0.4975\t5.390407e+02\t0.000000e+00\t5.390407e+02\t0.000000e+00\t0.0006\t0.5000\t\n",
            "deletion\tchr7:58100001-61000000\t2900000\t0.0000\t0.000000e+00\t0.000000e+00\t0.000000e+00\t0.000000e+00\t-1.0000\t1.0000\t\n",
            "deletion\tchr7:130100001-130300000\t200000\t0.5105\t2.499190e+02\t0.000000e+00\t2.499190e+02\t0.000000e+00\t0.0521\t0.5000\t\n",
            "deletion\tchr8:43900001-46800000\t2900000\t0.0000\t0.000000e+00\t0.000000e+00\t0.000000e+00\t0.000000e+00\t-1.0000\t1.0000\t\n",
            "deletion\tchr8:145300001-145500000\t200000\t0.2717\t3.370723e+02\t0.000000e+00\t3.370723e+02\t0.000000e+00\t0.9013\t0.5000\t\n",
            "deletion\tchr9:39200001-40300000\t1100000\t0.4786\t2.728271e-04\t0.000000e+00\t2.728271e-04\t0.000000e+00\t0.8459\t0.1364\t\n",
            "deletion\tchr9:40900001-41900000\t1000000\t0.4382\t5.512860e-03\t0.000000e+00\t5.512860e-03\t0.000000e+00\t0.8725\t0.1500\t\n",
            "deletion\tchr9:43200001-43600000\t400000\t0.6314\t3.801249e+02\t3.854875e-04\t3.801249e+02\t3.854875e-04\t0.4515\t0.2500\t\n",
            "deletion\tchr9:44400001-44700000\t300000\t0.4991\t1.594447e+02\t0.000000e+00\t1.594447e+02\t0.000000e+00\t0.8302\t0.0778\t\n",
            "deletion\tchr9:46100001-46600000\t500000\t0.5674\t5.842776e+00\t0.000000e+00\t5.842776e+00\t0.000000e+00\t0.8601\t0.3000\t\n",
            "deletion\tchr9:46900001-66400000\t19500000\t0.0448\t0.000000e+00\t2.471719e+09\t0.000000e+00\t2.471719e+09\t0.7235\t0.9410\t\n",
            "deletion\tchr9:92300001-92700000\t400000\t0.3805\t1.063679e+01\t0.000000e+00\t1.063679e+01\t0.000000e+00\t0.0006\t0.6250\t\n",
            "deletion\tchr9:133000001-133300000\t300000\t0.4989\t6.370994e+02\t0.000000e+00\t6.370994e+02\t0.000000e+00\t0.0008\t0.5000\t\n",
            "deletion\tchr10:17700001-18300000\t600000\t0.5812\t1.106910e+01\t4.392513e-34\t1.106910e+01\t4.392513e-34\t0.3938\t0.0833\t\n",
            "deletion\tchr10:39200001-42300000\t3100000\t0.0000\t0.000000e+00\t0.000000e+00\t0.000000e+00\t0.000000e+00\t-1.0000\t1.0000\t\n",
            "deletion\tchr10:46300001-46900000\t600000\t0.4853\t1.393003e+00\t0.000000e+00\t1.393003e+00\t0.000000e+00\t0.8384\t0.0833\t\n",
            "deletion\tchr10:48600001-49400000\t800000\t0.5918\t3.445777e+00\t1.260244e-81\t3.445777e+00\t1.260244e-81\t0.5882\t0.1250\t\n",
            "deletion\tchr10:128600001-128800000\t200000\t0.2388\t3.545545e+02\t0.000000e+00\t3.545545e+02\t0.000000e+00\t0.0017\t0.7500\t\n",
            "deletion\tchr11:50800001-51200000\t400000\t0.1221\t9.454855e+00\t0.000000e+00\t9.454855e+00\t0.000000e+00\t0.6168\t0.7271\t\n",
            "deletion\tchr11:51600001-54700000\t3100000\t0.0010\t0.000000e+00\t0.000000e+00\t0.000000e+00\t0.000000e+00\t0.3954\t0.9981\t\n",
            "deletion\tchr11:96300001-96500000\t200000\t0.3221\t1.480848e+03\t0.000000e+00\t1.480848e+03\t0.000000e+00\t0.0099\t0.6879\t\n",
            "deletion\tchr12:1-200000\t200000\t0.6941\t4.198428e+02\t0.000000e+00\t4.198428e+02\t0.000000e+00\t0.2263\t0.5500\t\n",
            "deletion\tchr12:34900001-37800000\t2900000\t0.0000\t0.000000e+00\t0.000000e+00\t0.000000e+00\t0.000000e+00\t-1.0000\t1.0000\t\n",
            "deletion\tchr13:1-19000000\t19000000\t0.0000\t0.000000e+00\t0.000000e+00\t0.000000e+00\t0.000000e+00\t-1.0000\t1.0000\t\n",
            "deletion\tchr14:1-19000000\t19000000\t0.0000\t0.000000e+00\t0.000000e+00\t0.000000e+00\t0.000000e+00\t-1.0000\t1.0000\t\n",
            "duplication\tchr14:19000001-20400000\t1400000\t1.7458\t4.279642e-03\t1.465976e+09\t4.279642e-03\t1.465976e+09\t0.4126\t0.0000\t\n",
            "deletion\tchr14:106300001-106700000\t400000\t0.1876\t1.324079e+00\t0.000000e+00\t1.324079e+00\t0.000000e+00\t0.0180\t0.0000\t\n",
            "deletion\tchr15:1-20000000\t20000000\t0.0000\t0.000000e+00\t0.000000e+00\t0.000000e+00\t0.000000e+00\t-1.0000\t1.0000\t\n",
            "deletion\tchr15:21400001-21800000\t400000\t0.0000\t6.374901e-12\t0.000000e+00\t6.374901e-12\t0.000000e+00\t-1.0000\t1.0000\t\n",
            "deletion\tchr15:82600001-83200000\t600000\t0.5022\t2.658831e-01\t0.000000e+00\t2.658831e-01\t0.000000e+00\t0.8954\t0.0833\t\n",
            "duplication\tchr16:32000001-33800000\t1800000\t1.6938\t4.210464e-02\t2.870461e+09\t4.210464e-02\t2.870461e+09\t0.3411\t0.0000\t\n",
            "deletion\tchr16:35300001-46300000\t11000000\t0.0000\t0.000000e+00\t0.000000e+00\t0.000000e+00\t0.000000e+00\t-1.0000\t1.0000\t\n",
            "deletion\tchr17:22300001-25200000\t2900000\t0.0000\t0.000000e+00\t0.000000e+00\t0.000000e+00\t0.000000e+00\t-1.0000\t1.0000\t\n",
            "deletion\tchr17:77500001-77700000\t200000\t0.5803\t1.831548e+03\t5.029634e-18\t1.831548e+03\t5.029634e-18\t0.2118\t0.2500\t\n",
            "deletion\tchr18:15400001-18500000\t3100000\t0.0111\t0.000000e+00\t0.000000e+00\t0.000000e+00\t0.000000e+00\t0.0830\t0.9965\t\n",
            "duplication\tchr18:18700001-21300000\t2600000\t1.0106\t3.611139e-02\t2.942211e+04\t3.611139e-02\t2.942211e+04\t0.0053\t0.0000\t\n",
            "deletion\tchr19:24700001-27700000\t3000000\t0.0000\t0.000000e+00\t0.000000e+00\t0.000000e+00\t0.000000e+00\t-1.0000\t1.0000\t\n",
            "deletion\tchr20:26300001-29400000\t3100000\t0.0106\t0.000000e+00\t0.000000e+00\t0.000000e+00\t0.000000e+00\t0.0938\t0.9937\t\n",
            "deletion\tchr20:61100001-61300000\t200000\t0.5560\t3.447513e+02\t0.000000e+00\t3.447513e+02\t0.000000e+00\t0.0001\t0.4572\t\n",
            "deletion\tchr21:1-9400000\t9400000\t0.0000\t0.000000e+00\t0.000000e+00\t0.000000e+00\t0.000000e+00\t-1.0000\t1.0000\t\n",
            "deletion\tchr21:10200001-10400000\t200000\t0.6476\t1.676697e+03\t6.346883e-16\t1.676697e+03\t6.346883e-16\t0.2934\t0.7500\t\n",
            "deletion\tchr21:11200001-14300000\t3100000\t0.0000\t0.000000e+00\t0.000000e+00\t0.000000e+00\t0.000000e+00\t-1.0000\t1.0000\t\n",
            "deletion\tchr22:1-16000000\t16000000\t0.0000\t0.000000e+00\t0.000000e+00\t0.000000e+00\t0.000000e+00\t-1.0000\t1.0000\t\n",
            "deletion\tchr22:20300001-20700000\t400000\t0.5239\t1.784312e+02\t5.801356e-39\t1.784312e+02\t5.801356e-39\t0.6886\t0.2500\t\n",
            "deletion\tchr22:23000001-23300000\t300000\t0.7342\t2.803912e+02\t4.293145e-33\t2.803912e+02\t4.293145e-33\t0.0083\t0.0000\t\n",
            "deletion\tchr22:51200001-51400000\t200000\t0.2429\t1.019289e+03\t0.000000e+00\t1.019289e+03\t0.000000e+00\t0.3706\t0.7772\t\n",
            "deletion\tchrX:52100001-52600000\t500000\t0.4609\t5.561648e+00\t0.000000e+00\t5.561648e+00\t0.000000e+00\t0.8346\t0.1000\t\n",
            "deletion\tchrX:58600001-61600000\t3000000\t0.0000\t0.000000e+00\t0.000000e+00\t0.000000e+00\t0.000000e+00\t-1.0000\t1.0000\t\n",
            "deletion\tchrY:1000001-1300000\t300000\t0.4556\t1.881329e+02\t0.000000e+00\t1.881329e+02\t0.000000e+00\t1.0000\t1.0000\t\n",
            "deletion\tchrY:10100001-13100000\t3000000\t0.0152\t0.000000e+00\t0.000000e+00\t0.000000e+00\t0.000000e+00\t0.9544\t0.9985\t\n",
            "deletion\tchrY:28900001-58800000\t29900000\t0.0000\t0.000000e+00\t0.000000e+00\t0.000000e+00\t0.000000e+00\t-1.0000\t1.0000\t\n"
          ],
          "name": "stdout"
        }
      ]
    },
    {
      "cell_type": "markdown",
      "metadata": {
        "id": "o1NWmeHRSzKe",
        "colab_type": "text"
      },
      "source": [
        "#### 3.1.2 Using python console"
      ]
    },
    {
      "cell_type": "code",
      "metadata": {
        "id": "Q7kKSjV1Ucw0",
        "colab_type": "code",
        "colab": {}
      },
      "source": [
        "import cnvpytor"
      ],
      "execution_count": null,
      "outputs": []
    },
    {
      "cell_type": "markdown",
      "metadata": {
        "id": "5-R9Ckt1TCYH",
        "colab_type": "text"
      },
      "source": [
        "To create new root class"
      ]
    },
    {
      "cell_type": "code",
      "metadata": {
        "id": "bcGMX1TyTpqT",
        "colab_type": "code",
        "colab": {}
      },
      "source": [
        "pytor_file = \"NA12877.pytor\"\n",
        "app = cnvpytor.Root(pytor_file, create=True)\n"
      ],
      "execution_count": null,
      "outputs": []
    },
    {
      "cell_type": "markdown",
      "metadata": {
        "id": "_hwSyjFGVuP6",
        "colab_type": "text"
      },
      "source": [
        "To import RD signal from bam file"
      ]
    },
    {
      "cell_type": "code",
      "metadata": {
        "id": "VdZyy9o3Vq9I",
        "colab_type": "code",
        "colab": {}
      },
      "source": [
        "bam_file = \"/content/trio_data_bam/NA12877_S1.bam\"\n",
        "bam_file_list = [bam_file]\n",
        "app.rd(bam_file_list)"
      ],
      "execution_count": null,
      "outputs": []
    },
    {
      "cell_type": "markdown",
      "metadata": {
        "id": "3KUxgToAWLRP",
        "colab_type": "text"
      },
      "source": [
        "Calculate Histogram "
      ]
    },
    {
      "cell_type": "code",
      "metadata": {
        "id": "0WDSM-tMWNeW",
        "colab_type": "code",
        "colab": {}
      },
      "source": [
        "bin_list = [10000, 100000]\n",
        "app.calculate_histograms(bin_list)"
      ],
      "execution_count": null,
      "outputs": []
    },
    {
      "cell_type": "markdown",
      "metadata": {
        "id": "CjTwXT8UWQd_",
        "colab_type": "text"
      },
      "source": [
        "Calculate partition for the same bins"
      ]
    },
    {
      "cell_type": "code",
      "metadata": {
        "id": "nHkZ1xyjWYjo",
        "colab_type": "code",
        "colab": {}
      },
      "source": [
        "app.partition(bin_list)"
      ],
      "execution_count": null,
      "outputs": []
    },
    {
      "cell_type": "markdown",
      "metadata": {
        "id": "g_CaZSjaWotM",
        "colab_type": "text"
      },
      "source": [
        "Calls "
      ]
    },
    {
      "cell_type": "code",
      "metadata": {
        "id": "K9jLuOsoWrDk",
        "colab_type": "code",
        "colab": {}
      },
      "source": [
        "calls=app.call(bin_list)"
      ],
      "execution_count": null,
      "outputs": []
    },
    {
      "cell_type": "markdown",
      "metadata": {
        "id": "tzw4yOCnWyTW",
        "colab_type": "text"
      },
      "source": [
        "Access the calls"
      ]
    },
    {
      "cell_type": "code",
      "metadata": {
        "id": "BWq9rDkKWwY7",
        "colab_type": "code",
        "colab": {}
      },
      "source": [
        "for bin_size in calls:\n",
        "    for call in calls[bin_size]:\n",
        "        print((\"{:13}{:>5}{:10}{:10}{:10}{:15.2f}{:15.2e}{:15.2e}\").format(*tuple(call)))"
      ],
      "execution_count": null,
      "outputs": []
    },
    {
      "cell_type": "markdown",
      "metadata": {
        "id": "TsRzzeUDRNoL",
        "colab_type": "text"
      },
      "source": [
        "### 3.2 Using Variant file as input BAF analysis\n",
        "\n",
        "For SNP call the steps are\n",
        "*   Read the variant file\n",
        "*   mask snp\n",
        "*   Create BAF histogram\n",
        "*   Call BAF\n"
      ]
    },
    {
      "cell_type": "markdown",
      "metadata": {
        "id": "VfDXg11Ej0S3",
        "colab_type": "text"
      },
      "source": [
        "#### 3.2.1 Using command line console"
      ]
    },
    {
      "cell_type": "code",
      "metadata": {
        "id": "bvTWdgcZRv0M",
        "colab_type": "code",
        "colab": {
          "base_uri": "https://localhost:8080/",
          "height": 868
        },
        "outputId": "7046fbd2-f0d9-480d-8fd1-1dea8810929e"
      },
      "source": [
        "# Read VCF data\n",
        "!cnvpytor -root NA12877.pytor -vcf /content/trio_data_vcf/NA12877_S1.genome.vcf\n"
      ],
      "execution_count": null,
      "outputs": [
        {
          "output_type": "stream",
          "text": [
            "2020-07-22 02:12:37,879 - cnvpytor.vcf - INFO - File: /content/trio_data_vcf/NA12877_S1.genome.vcf successfully open\n",
            "2020-07-22 02:12:57,857 - cnvpytor.io - INFO - Saving SNP data for chromosome 'chr1'.\n",
            "2020-07-22 02:12:58,122 - cnvpytor.io - INFO - Detecting RD data in file 'NA12877.pytor' for the same chromosome.\n",
            "2020-07-22 02:13:19,006 - cnvpytor.io - INFO - Saving SNP data for chromosome 'chr2'.\n",
            "2020-07-22 02:13:19,297 - cnvpytor.io - INFO - Detecting RD data in file 'NA12877.pytor' for the same chromosome.\n",
            "2020-07-22 02:13:36,045 - cnvpytor.io - INFO - Saving SNP data for chromosome 'chr3'.\n",
            "2020-07-22 02:13:36,280 - cnvpytor.io - INFO - Detecting RD data in file 'NA12877.pytor' for the same chromosome.\n",
            "2020-07-22 02:13:53,488 - cnvpytor.io - INFO - Saving SNP data for chromosome 'chr4'.\n",
            "2020-07-22 02:13:53,733 - cnvpytor.io - INFO - Detecting RD data in file 'NA12877.pytor' for the same chromosome.\n",
            "2020-07-22 02:14:08,736 - cnvpytor.io - INFO - Saving SNP data for chromosome 'chr5'.\n",
            "2020-07-22 02:14:08,942 - cnvpytor.io - INFO - Detecting RD data in file 'NA12877.pytor' for the same chromosome.\n",
            "2020-07-22 02:14:23,669 - cnvpytor.io - INFO - Saving SNP data for chromosome 'chr6'.\n",
            "2020-07-22 02:14:23,869 - cnvpytor.io - INFO - Detecting RD data in file 'NA12877.pytor' for the same chromosome.\n",
            "2020-07-22 02:14:38,192 - cnvpytor.io - INFO - Saving SNP data for chromosome 'chr7'.\n",
            "2020-07-22 02:14:38,372 - cnvpytor.io - INFO - Detecting RD data in file 'NA12877.pytor' for the same chromosome.\n",
            "2020-07-22 02:14:51,067 - cnvpytor.io - INFO - Saving SNP data for chromosome 'chr8'.\n",
            "2020-07-22 02:14:51,244 - cnvpytor.io - INFO - Detecting RD data in file 'NA12877.pytor' for the same chromosome.\n",
            "2020-07-22 02:15:02,897 - cnvpytor.io - INFO - Saving SNP data for chromosome 'chr9'.\n",
            "2020-07-22 02:15:03,027 - cnvpytor.io - INFO - Detecting RD data in file 'NA12877.pytor' for the same chromosome.\n",
            "2020-07-22 02:15:15,377 - cnvpytor.io - INFO - Saving SNP data for chromosome 'chr10'.\n",
            "2020-07-22 02:15:15,536 - cnvpytor.io - INFO - Detecting RD data in file 'NA12877.pytor' for the same chromosome.\n",
            "2020-07-22 02:15:28,094 - cnvpytor.io - INFO - Saving SNP data for chromosome 'chr11'.\n",
            "2020-07-22 02:15:28,252 - cnvpytor.io - INFO - Detecting RD data in file 'NA12877.pytor' for the same chromosome.\n",
            "2020-07-22 02:15:40,126 - cnvpytor.io - INFO - Saving SNP data for chromosome 'chr12'.\n",
            "2020-07-22 02:15:40,277 - cnvpytor.io - INFO - Detecting RD data in file 'NA12877.pytor' for the same chromosome.\n",
            "2020-07-22 02:15:49,206 - cnvpytor.io - INFO - Saving SNP data for chromosome 'chr13'.\n",
            "2020-07-22 02:15:49,329 - cnvpytor.io - INFO - Detecting RD data in file 'NA12877.pytor' for the same chromosome.\n",
            "2020-07-22 02:15:57,408 - cnvpytor.io - INFO - Saving SNP data for chromosome 'chr14'.\n",
            "2020-07-22 02:15:57,505 - cnvpytor.io - INFO - Detecting RD data in file 'NA12877.pytor' for the same chromosome.\n",
            "2020-07-22 02:16:05,110 - cnvpytor.io - INFO - Saving SNP data for chromosome 'chr15'.\n",
            "2020-07-22 02:16:05,201 - cnvpytor.io - INFO - Detecting RD data in file 'NA12877.pytor' for the same chromosome.\n",
            "2020-07-22 02:16:13,288 - cnvpytor.io - INFO - Saving SNP data for chromosome 'chr16'.\n",
            "2020-07-22 02:16:13,392 - cnvpytor.io - INFO - Detecting RD data in file 'NA12877.pytor' for the same chromosome.\n",
            "2020-07-22 02:16:20,956 - cnvpytor.io - INFO - Saving SNP data for chromosome 'chr17'.\n",
            "2020-07-22 02:16:21,042 - cnvpytor.io - INFO - Detecting RD data in file 'NA12877.pytor' for the same chromosome.\n",
            "2020-07-22 02:16:27,728 - cnvpytor.io - INFO - Saving SNP data for chromosome 'chr18'.\n",
            "2020-07-22 02:16:27,820 - cnvpytor.io - INFO - Detecting RD data in file 'NA12877.pytor' for the same chromosome.\n",
            "2020-07-22 02:16:33,988 - cnvpytor.io - INFO - Saving SNP data for chromosome 'chr19'.\n",
            "2020-07-22 02:16:34,054 - cnvpytor.io - INFO - Detecting RD data in file 'NA12877.pytor' for the same chromosome.\n",
            "2020-07-22 02:16:39,517 - cnvpytor.io - INFO - Saving SNP data for chromosome 'chr20'.\n",
            "2020-07-22 02:16:39,583 - cnvpytor.io - INFO - Detecting RD data in file 'NA12877.pytor' for the same chromosome.\n",
            "2020-07-22 02:16:43,425 - cnvpytor.io - INFO - Saving SNP data for chromosome 'chr21'.\n",
            "2020-07-22 02:16:43,469 - cnvpytor.io - INFO - Detecting RD data in file 'NA12877.pytor' for the same chromosome.\n",
            "2020-07-22 02:16:47,263 - cnvpytor.io - INFO - Saving SNP data for chromosome 'chr22'.\n",
            "2020-07-22 02:16:47,305 - cnvpytor.io - INFO - Detecting RD data in file 'NA12877.pytor' for the same chromosome.\n",
            "2020-07-22 02:17:03,738 - cnvpytor.io - INFO - Saving SNP data for chromosome 'chrX'.\n",
            "2020-07-22 02:17:03,800 - cnvpytor.io - INFO - Detecting RD data in file 'NA12877.pytor' for the same chromosome.\n",
            "2020-07-22 02:17:06,276 - cnvpytor.io - INFO - Saving SNP data for chromosome 'chrY'.\n",
            "2020-07-22 02:17:06,277 - cnvpytor.io - INFO - Detecting RD data in file 'NA12877.pytor' for the same chromosome.\n"
          ],
          "name": "stdout"
        }
      ]
    },
    {
      "cell_type": "code",
      "metadata": {
        "id": "ApvN3lR1SSGr",
        "colab_type": "code",
        "colab": {
          "base_uri": "https://localhost:8080/",
          "height": 1000
        },
        "outputId": "917777bd-8eb4-4672-8aff-06435367cb2d"
      },
      "source": [
        "# Pileup step\n",
        "!cnvpytor -root NA12877.pytor -pileup /content/trio_data_bam/NA12877_S1.bam"
      ],
      "execution_count": null,
      "outputs": [
        {
          "output_type": "stream",
          "text": [
            "2020-07-22 02:23:49,550 - cnvpytor.root - INFO - Decompressing and setting all SNP counts to zero for chromosome 'chr1'.\n",
            "2020-07-22 02:23:53,858 - cnvpytor.root - INFO - Decompressing and setting all SNP counts to zero for chromosome 'chr2'.\n",
            "2020-07-22 02:23:58,329 - cnvpytor.root - INFO - Decompressing and setting all SNP counts to zero for chromosome 'chr3'.\n",
            "2020-07-22 02:24:02,196 - cnvpytor.root - INFO - Decompressing and setting all SNP counts to zero for chromosome 'chr4'.\n",
            "2020-07-22 02:24:06,318 - cnvpytor.root - INFO - Decompressing and setting all SNP counts to zero for chromosome 'chr5'.\n",
            "2020-07-22 02:24:09,698 - cnvpytor.root - INFO - Decompressing and setting all SNP counts to zero for chromosome 'chr6'.\n",
            "2020-07-22 02:24:13,145 - cnvpytor.root - INFO - Decompressing and setting all SNP counts to zero for chromosome 'chr7'.\n",
            "2020-07-22 02:24:16,200 - cnvpytor.root - INFO - Decompressing and setting all SNP counts to zero for chromosome 'chr8'.\n",
            "2020-07-22 02:24:19,273 - cnvpytor.root - INFO - Decompressing and setting all SNP counts to zero for chromosome 'chr9'.\n",
            "2020-07-22 02:24:21,590 - cnvpytor.root - INFO - Decompressing and setting all SNP counts to zero for chromosome 'chr10'.\n",
            "2020-07-22 02:24:24,380 - cnvpytor.root - INFO - Decompressing and setting all SNP counts to zero for chromosome 'chr11'.\n",
            "2020-07-22 02:24:27,198 - cnvpytor.root - INFO - Decompressing and setting all SNP counts to zero for chromosome 'chr12'.\n",
            "2020-07-22 02:24:29,856 - cnvpytor.root - INFO - Decompressing and setting all SNP counts to zero for chromosome 'chr13'.\n",
            "2020-07-22 02:24:32,039 - cnvpytor.root - INFO - Decompressing and setting all SNP counts to zero for chromosome 'chr14'.\n",
            "2020-07-22 02:24:33,783 - cnvpytor.root - INFO - Decompressing and setting all SNP counts to zero for chromosome 'chr15'.\n",
            "2020-07-22 02:24:35,537 - cnvpytor.root - INFO - Decompressing and setting all SNP counts to zero for chromosome 'chr16'.\n",
            "2020-07-22 02:24:37,260 - cnvpytor.root - INFO - Decompressing and setting all SNP counts to zero for chromosome 'chr17'.\n",
            "2020-07-22 02:24:38,746 - cnvpytor.root - INFO - Decompressing and setting all SNP counts to zero for chromosome 'chr18'.\n",
            "2020-07-22 02:24:40,374 - cnvpytor.root - INFO - Decompressing and setting all SNP counts to zero for chromosome 'chr19'.\n",
            "2020-07-22 02:24:41,531 - cnvpytor.root - INFO - Decompressing and setting all SNP counts to zero for chromosome 'chr20'.\n",
            "2020-07-22 02:24:42,707 - cnvpytor.root - INFO - Decompressing and setting all SNP counts to zero for chromosome 'chr21'.\n",
            "2020-07-22 02:24:43,496 - cnvpytor.root - INFO - Decompressing and setting all SNP counts to zero for chromosome 'chr22'.\n",
            "2020-07-22 02:24:44,230 - cnvpytor.root - INFO - Decompressing and setting all SNP counts to zero for chromosome 'chrX'.\n",
            "2020-07-22 02:24:45,374 - cnvpytor.root - INFO - Decompressing and setting all SNP counts to zero for chromosome 'chrY'.\n",
            "2020-07-22 02:24:45,380 - cnvpytor.root - INFO - Calculating pileup from bam file '/content/trio_data_bam/NA12877_S1.bam'.\n",
            "2020-07-22 02:24:45,954 - cnvpytor.bam - INFO - File: /content/trio_data_bam/NA12877_S1.bam successfully open\n",
            "2020-07-22 02:24:45,955 - cnvpytor.bam - INFO - Detected reference genome: hg19\n",
            "2020-07-22 02:24:45,973 - cnvpytor.pool - INFO - Parallel processing using 2 cores\n",
            "2020-07-22 02:24:46,046 - cnvpytor.root - INFO - Pileup chromosome chr1 with length 249250621\n",
            "2020-07-22 02:24:46,049 - cnvpytor.root - INFO - Pileup chromosome chr2 with length 243199373\n",
            "2020-07-22 02:31:00,881 - cnvpytor.root - INFO - Pileup chromosome chr3 with length 198022430\n",
            "2020-07-22 02:32:45,501 - cnvpytor.root - INFO - Pileup chromosome chr4 with length 191154276\n",
            "2020-07-22 02:37:13,880 - cnvpytor.root - INFO - Pileup chromosome chr5 with length 180915260\n",
            "2020-07-22 02:38:55,021 - cnvpytor.root - INFO - Pileup chromosome chr6 with length 171115067\n",
            "2020-07-22 02:41:58,068 - cnvpytor.root - INFO - Pileup chromosome chr7 with length 159138663\n",
            "2020-07-22 02:44:04,429 - cnvpytor.root - INFO - Pileup chromosome chr8 with length 146364022\n",
            "2020-07-22 02:46:07,390 - cnvpytor.root - INFO - Pileup chromosome chr9 with length 141213431\n",
            "2020-07-22 02:48:58,664 - cnvpytor.root - INFO - Pileup chromosome chr10 with length 135534747\n",
            "2020-07-22 02:49:28,317 - cnvpytor.root - INFO - Pileup chromosome chr11 with length 135006516\n",
            "2020-07-22 02:52:54,432 - cnvpytor.root - INFO - Pileup chromosome chr12 with length 133851895\n",
            "2020-07-22 02:53:10,349 - cnvpytor.root - INFO - Pileup chromosome chr13 with length 115169878\n",
            "2020-07-22 02:55:50,010 - cnvpytor.root - INFO - Pileup chromosome chr14 with length 107349540\n",
            "2020-07-22 02:56:32,581 - cnvpytor.root - INFO - Pileup chromosome chr15 with length 102531392\n",
            "2020-07-22 02:58:16,835 - cnvpytor.root - INFO - Pileup chromosome chr16 with length 90354753\n",
            "2020-07-22 02:58:49,580 - cnvpytor.root - INFO - Pileup chromosome chr17 with length 81195210\n",
            "2020-07-22 03:00:57,073 - cnvpytor.root - INFO - Pileup chromosome chr18 with length 78077248\n",
            "2020-07-22 03:01:00,873 - cnvpytor.root - INFO - Pileup chromosome chr19 with length 59128983\n",
            "2020-07-22 03:02:44,288 - cnvpytor.root - INFO - Pileup chromosome chr20 with length 63025520\n",
            "2020-07-22 03:03:08,946 - cnvpytor.root - INFO - Pileup chromosome chr21 with length 48129895\n",
            "2020-07-22 03:04:19,044 - cnvpytor.root - INFO - Pileup chromosome chr22 with length 51304566\n",
            "2020-07-22 03:04:19,331 - cnvpytor.root - INFO - Pileup chromosome chrX with length 155270560\n",
            "2020-07-22 03:05:23,349 - cnvpytor.root - INFO - Pileup chromosome chrY with length 59373566\n",
            "2020-07-22 03:06:15,317 - cnvpytor.root - INFO - Saving SNP data for chromosome 'chr1' in file 'NA12877.pytor'.\n",
            "2020-07-22 03:06:15,317 - cnvpytor.io - INFO - Saving SNP data for chromosome 'chr1'.\n",
            "2020-07-22 03:06:15,831 - cnvpytor.io - INFO - Detecting RD data in file 'NA12877.pytor' for the same chromosome.\n",
            "2020-07-22 03:06:16,415 - cnvpytor.root - INFO - Saving SNP data for chromosome 'chr2' in file 'NA12877.pytor'.\n",
            "2020-07-22 03:06:16,415 - cnvpytor.io - INFO - Saving SNP data for chromosome 'chr2'.\n",
            "2020-07-22 03:06:16,899 - cnvpytor.io - INFO - Detecting RD data in file 'NA12877.pytor' for the same chromosome.\n",
            "2020-07-22 03:06:17,532 - cnvpytor.root - INFO - Saving SNP data for chromosome 'chr3' in file 'NA12877.pytor'.\n",
            "2020-07-22 03:06:17,532 - cnvpytor.io - INFO - Saving SNP data for chromosome 'chr3'.\n",
            "2020-07-22 03:06:18,001 - cnvpytor.io - INFO - Detecting RD data in file 'NA12877.pytor' for the same chromosome.\n",
            "2020-07-22 03:06:18,487 - cnvpytor.root - INFO - Saving SNP data for chromosome 'chr4' in file 'NA12877.pytor'.\n",
            "2020-07-22 03:06:18,487 - cnvpytor.io - INFO - Saving SNP data for chromosome 'chr4'.\n",
            "2020-07-22 03:06:18,942 - cnvpytor.io - INFO - Detecting RD data in file 'NA12877.pytor' for the same chromosome.\n",
            "2020-07-22 03:06:19,508 - cnvpytor.root - INFO - Saving SNP data for chromosome 'chr5' in file 'NA12877.pytor'.\n",
            "2020-07-22 03:06:19,508 - cnvpytor.io - INFO - Saving SNP data for chromosome 'chr5'.\n",
            "2020-07-22 03:06:19,901 - cnvpytor.io - INFO - Detecting RD data in file 'NA12877.pytor' for the same chromosome.\n",
            "2020-07-22 03:06:20,282 - cnvpytor.root - INFO - Saving SNP data for chromosome 'chr6' in file 'NA12877.pytor'.\n",
            "2020-07-22 03:06:20,282 - cnvpytor.io - INFO - Saving SNP data for chromosome 'chr6'.\n",
            "2020-07-22 03:06:20,660 - cnvpytor.io - INFO - Detecting RD data in file 'NA12877.pytor' for the same chromosome.\n",
            "2020-07-22 03:06:21,060 - cnvpytor.root - INFO - Saving SNP data for chromosome 'chr7' in file 'NA12877.pytor'.\n",
            "2020-07-22 03:06:21,060 - cnvpytor.io - INFO - Saving SNP data for chromosome 'chr7'.\n",
            "2020-07-22 03:06:21,404 - cnvpytor.io - INFO - Detecting RD data in file 'NA12877.pytor' for the same chromosome.\n",
            "2020-07-22 03:06:21,726 - cnvpytor.root - INFO - Saving SNP data for chromosome 'chr8' in file 'NA12877.pytor'.\n",
            "2020-07-22 03:06:21,726 - cnvpytor.io - INFO - Saving SNP data for chromosome 'chr8'.\n",
            "2020-07-22 03:06:22,076 - cnvpytor.io - INFO - Detecting RD data in file 'NA12877.pytor' for the same chromosome.\n",
            "2020-07-22 03:06:22,416 - cnvpytor.root - INFO - Saving SNP data for chromosome 'chr9' in file 'NA12877.pytor'.\n",
            "2020-07-22 03:06:22,416 - cnvpytor.io - INFO - Saving SNP data for chromosome 'chr9'.\n",
            "2020-07-22 03:06:23,051 - cnvpytor.io - INFO - Detecting RD data in file 'NA12877.pytor' for the same chromosome.\n",
            "2020-07-22 03:06:23,363 - cnvpytor.root - INFO - Saving SNP data for chromosome 'chr10' in file 'NA12877.pytor'.\n",
            "2020-07-22 03:06:23,363 - cnvpytor.io - INFO - Saving SNP data for chromosome 'chr10'.\n",
            "2020-07-22 03:06:23,806 - cnvpytor.io - INFO - Detecting RD data in file 'NA12877.pytor' for the same chromosome.\n",
            "2020-07-22 03:06:24,264 - cnvpytor.root - INFO - Saving SNP data for chromosome 'chr11' in file 'NA12877.pytor'.\n",
            "2020-07-22 03:06:24,264 - cnvpytor.io - INFO - Saving SNP data for chromosome 'chr11'.\n",
            "2020-07-22 03:06:25,064 - cnvpytor.io - INFO - Detecting RD data in file 'NA12877.pytor' for the same chromosome.\n",
            "2020-07-22 03:06:25,524 - cnvpytor.root - INFO - Saving SNP data for chromosome 'chr12' in file 'NA12877.pytor'.\n",
            "2020-07-22 03:06:25,524 - cnvpytor.io - INFO - Saving SNP data for chromosome 'chr12'.\n",
            "2020-07-22 03:06:25,929 - cnvpytor.io - INFO - Detecting RD data in file 'NA12877.pytor' for the same chromosome.\n",
            "2020-07-22 03:06:26,334 - cnvpytor.root - INFO - Saving SNP data for chromosome 'chr13' in file 'NA12877.pytor'.\n",
            "2020-07-22 03:06:26,334 - cnvpytor.io - INFO - Saving SNP data for chromosome 'chr13'.\n",
            "2020-07-22 03:06:26,613 - cnvpytor.io - INFO - Detecting RD data in file 'NA12877.pytor' for the same chromosome.\n",
            "2020-07-22 03:06:26,930 - cnvpytor.root - INFO - Saving SNP data for chromosome 'chr14' in file 'NA12877.pytor'.\n",
            "2020-07-22 03:06:26,930 - cnvpytor.io - INFO - Saving SNP data for chromosome 'chr14'.\n",
            "2020-07-22 03:06:27,244 - cnvpytor.io - INFO - Detecting RD data in file 'NA12877.pytor' for the same chromosome.\n",
            "2020-07-22 03:06:27,447 - cnvpytor.root - INFO - Saving SNP data for chromosome 'chr15' in file 'NA12877.pytor'.\n",
            "2020-07-22 03:06:27,447 - cnvpytor.io - INFO - Saving SNP data for chromosome 'chr15'.\n",
            "2020-07-22 03:06:27,621 - cnvpytor.io - INFO - Detecting RD data in file 'NA12877.pytor' for the same chromosome.\n",
            "2020-07-22 03:06:27,861 - cnvpytor.root - INFO - Saving SNP data for chromosome 'chr16' in file 'NA12877.pytor'.\n",
            "2020-07-22 03:06:27,862 - cnvpytor.io - INFO - Saving SNP data for chromosome 'chr16'.\n",
            "2020-07-22 03:06:28,079 - cnvpytor.io - INFO - Detecting RD data in file 'NA12877.pytor' for the same chromosome.\n",
            "2020-07-22 03:06:28,286 - cnvpytor.root - INFO - Saving SNP data for chromosome 'chr17' in file 'NA12877.pytor'.\n",
            "2020-07-22 03:06:28,287 - cnvpytor.io - INFO - Saving SNP data for chromosome 'chr17'.\n",
            "2020-07-22 03:06:28,463 - cnvpytor.io - INFO - Detecting RD data in file 'NA12877.pytor' for the same chromosome.\n",
            "2020-07-22 03:06:28,624 - cnvpytor.root - INFO - Saving SNP data for chromosome 'chr18' in file 'NA12877.pytor'.\n",
            "2020-07-22 03:06:28,624 - cnvpytor.io - INFO - Saving SNP data for chromosome 'chr18'.\n",
            "2020-07-22 03:06:28,857 - cnvpytor.io - INFO - Detecting RD data in file 'NA12877.pytor' for the same chromosome.\n",
            "2020-07-22 03:06:29,044 - cnvpytor.root - INFO - Saving SNP data for chromosome 'chr19' in file 'NA12877.pytor'.\n",
            "2020-07-22 03:06:29,044 - cnvpytor.io - INFO - Saving SNP data for chromosome 'chr19'.\n",
            "2020-07-22 03:06:29,181 - cnvpytor.io - INFO - Detecting RD data in file 'NA12877.pytor' for the same chromosome.\n",
            "2020-07-22 03:06:29,290 - cnvpytor.root - INFO - Saving SNP data for chromosome 'chr20' in file 'NA12877.pytor'.\n",
            "2020-07-22 03:06:29,290 - cnvpytor.io - INFO - Saving SNP data for chromosome 'chr20'.\n",
            "2020-07-22 03:06:29,435 - cnvpytor.io - INFO - Detecting RD data in file 'NA12877.pytor' for the same chromosome.\n",
            "2020-07-22 03:06:29,546 - cnvpytor.root - INFO - Saving SNP data for chromosome 'chr21' in file 'NA12877.pytor'.\n",
            "2020-07-22 03:06:29,546 - cnvpytor.io - INFO - Saving SNP data for chromosome 'chr21'.\n",
            "2020-07-22 03:06:29,626 - cnvpytor.io - INFO - Detecting RD data in file 'NA12877.pytor' for the same chromosome.\n",
            "2020-07-22 03:06:29,715 - cnvpytor.root - INFO - Saving SNP data for chromosome 'chr22' in file 'NA12877.pytor'.\n",
            "2020-07-22 03:06:29,715 - cnvpytor.io - INFO - Saving SNP data for chromosome 'chr22'.\n",
            "2020-07-22 03:06:29,795 - cnvpytor.io - INFO - Detecting RD data in file 'NA12877.pytor' for the same chromosome.\n",
            "2020-07-22 03:06:29,872 - cnvpytor.root - INFO - Saving SNP data for chromosome 'chrX' in file 'NA12877.pytor'.\n",
            "2020-07-22 03:06:29,872 - cnvpytor.io - INFO - Saving SNP data for chromosome 'chrX'.\n",
            "2020-07-22 03:06:29,994 - cnvpytor.io - INFO - Detecting RD data in file 'NA12877.pytor' for the same chromosome.\n",
            "2020-07-22 03:06:30,177 - cnvpytor.root - INFO - Saving SNP data for chromosome 'chrY' in file 'NA12877.pytor'.\n",
            "2020-07-22 03:06:30,177 - cnvpytor.io - INFO - Saving SNP data for chromosome 'chrY'.\n",
            "2020-07-22 03:06:30,178 - cnvpytor.io - INFO - Detecting RD data in file 'NA12877.pytor' for the same chromosome.\n"
          ],
          "name": "stdout"
        }
      ]
    },
    {
      "cell_type": "code",
      "metadata": {
        "id": "dNrVO1WESgC5",
        "colab_type": "code",
        "colab": {
          "base_uri": "https://localhost:8080/",
          "height": 851
        },
        "outputId": "345c5888-1bad-4150-ccf9-b132dcf99fad"
      },
      "source": [
        "# Mask SNP\n",
        "!cnvpytor -root NA12877.pytor -mask_snps"
      ],
      "execution_count": null,
      "outputs": [
        {
          "output_type": "stream",
          "text": [
            "2020-07-22 03:19:12,138 - cnvpytor.root - INFO - Masking SNP data for chromosome 'chr1'.\n",
            "2020-07-22 03:19:17,115 - cnvpytor.io - INFO - Saving SNP data for chromosome 'chr1'.\n",
            "2020-07-22 03:19:18,134 - cnvpytor.root - INFO - Masking SNP data for chromosome 'chr2'.\n",
            "2020-07-22 03:19:23,166 - cnvpytor.io - INFO - Saving SNP data for chromosome 'chr2'.\n",
            "2020-07-22 03:19:24,223 - cnvpytor.root - INFO - Masking SNP data for chromosome 'chr3'.\n",
            "2020-07-22 03:19:28,577 - cnvpytor.io - INFO - Saving SNP data for chromosome 'chr3'.\n",
            "2020-07-22 03:19:29,441 - cnvpytor.root - INFO - Masking SNP data for chromosome 'chr4'.\n",
            "2020-07-22 03:19:34,011 - cnvpytor.io - INFO - Saving SNP data for chromosome 'chr4'.\n",
            "2020-07-22 03:19:34,993 - cnvpytor.root - INFO - Masking SNP data for chromosome 'chr5'.\n",
            "2020-07-22 03:19:38,820 - cnvpytor.io - INFO - Saving SNP data for chromosome 'chr5'.\n",
            "2020-07-22 03:19:39,538 - cnvpytor.root - INFO - Masking SNP data for chromosome 'chr6'.\n",
            "2020-07-22 03:19:43,398 - cnvpytor.io - INFO - Saving SNP data for chromosome 'chr6'.\n",
            "2020-07-22 03:19:44,127 - cnvpytor.root - INFO - Masking SNP data for chromosome 'chr7'.\n",
            "2020-07-22 03:19:47,591 - cnvpytor.io - INFO - Saving SNP data for chromosome 'chr7'.\n",
            "2020-07-22 03:19:48,213 - cnvpytor.root - INFO - Masking SNP data for chromosome 'chr8'.\n",
            "2020-07-22 03:19:51,630 - cnvpytor.io - INFO - Saving SNP data for chromosome 'chr8'.\n",
            "2020-07-22 03:19:52,274 - cnvpytor.root - INFO - Masking SNP data for chromosome 'chr9'.\n",
            "2020-07-22 03:19:54,896 - cnvpytor.io - INFO - Saving SNP data for chromosome 'chr9'.\n",
            "2020-07-22 03:19:55,445 - cnvpytor.root - INFO - Masking SNP data for chromosome 'chr10'.\n",
            "2020-07-22 03:19:58,561 - cnvpytor.io - INFO - Saving SNP data for chromosome 'chr10'.\n",
            "2020-07-22 03:19:59,279 - cnvpytor.root - INFO - Masking SNP data for chromosome 'chr11'.\n",
            "2020-07-22 03:20:02,442 - cnvpytor.io - INFO - Saving SNP data for chromosome 'chr11'.\n",
            "2020-07-22 03:20:03,186 - cnvpytor.root - INFO - Masking SNP data for chromosome 'chr12'.\n",
            "2020-07-22 03:20:06,232 - cnvpytor.io - INFO - Saving SNP data for chromosome 'chr12'.\n",
            "2020-07-22 03:20:06,902 - cnvpytor.root - INFO - Masking SNP data for chromosome 'chr13'.\n",
            "2020-07-22 03:20:09,325 - cnvpytor.io - INFO - Saving SNP data for chromosome 'chr13'.\n",
            "2020-07-22 03:20:09,847 - cnvpytor.root - INFO - Masking SNP data for chromosome 'chr14'.\n",
            "2020-07-22 03:20:11,817 - cnvpytor.io - INFO - Saving SNP data for chromosome 'chr14'.\n",
            "2020-07-22 03:20:12,185 - cnvpytor.root - INFO - Masking SNP data for chromosome 'chr15'.\n",
            "2020-07-22 03:20:13,976 - cnvpytor.io - INFO - Saving SNP data for chromosome 'chr15'.\n",
            "2020-07-22 03:20:14,303 - cnvpytor.root - INFO - Masking SNP data for chromosome 'chr16'.\n",
            "2020-07-22 03:20:16,233 - cnvpytor.io - INFO - Saving SNP data for chromosome 'chr16'.\n",
            "2020-07-22 03:20:16,596 - cnvpytor.root - INFO - Masking SNP data for chromosome 'chr17'.\n",
            "2020-07-22 03:20:18,292 - cnvpytor.io - INFO - Saving SNP data for chromosome 'chr17'.\n",
            "2020-07-22 03:20:18,588 - cnvpytor.root - INFO - Masking SNP data for chromosome 'chr18'.\n",
            "2020-07-22 03:20:20,386 - cnvpytor.io - INFO - Saving SNP data for chromosome 'chr18'.\n",
            "2020-07-22 03:20:20,726 - cnvpytor.root - INFO - Masking SNP data for chromosome 'chr19'.\n",
            "2020-07-22 03:20:22,068 - cnvpytor.io - INFO - Saving SNP data for chromosome 'chr19'.\n",
            "2020-07-22 03:20:22,284 - cnvpytor.root - INFO - Masking SNP data for chromosome 'chr20'.\n",
            "2020-07-22 03:20:23,606 - cnvpytor.io - INFO - Saving SNP data for chromosome 'chr20'.\n",
            "2020-07-22 03:20:23,829 - cnvpytor.root - INFO - Masking SNP data for chromosome 'chr21'.\n",
            "2020-07-22 03:20:24,706 - cnvpytor.io - INFO - Saving SNP data for chromosome 'chr21'.\n",
            "2020-07-22 03:20:24,870 - cnvpytor.root - INFO - Masking SNP data for chromosome 'chr22'.\n",
            "2020-07-22 03:20:25,690 - cnvpytor.io - INFO - Saving SNP data for chromosome 'chr22'.\n",
            "2020-07-22 03:20:25,835 - cnvpytor.root - INFO - Masking SNP data for chromosome 'chrX'.\n",
            "2020-07-22 03:20:27,277 - cnvpytor.io - INFO - Saving SNP data for chromosome 'chrX'.\n",
            "2020-07-22 03:20:27,552 - cnvpytor.root - INFO - Masking SNP data for chromosome 'chrY'.\n",
            "2020-07-22 03:20:27,648 - cnvpytor.io - INFO - Saving SNP data for chromosome 'chrY'.\n"
          ],
          "name": "stdout"
        }
      ]
    },
    {
      "cell_type": "code",
      "metadata": {
        "id": "aP66nqUhSktx",
        "colab_type": "code",
        "colab": {
          "base_uri": "https://localhost:8080/",
          "height": 851
        },
        "outputId": "9cce1905-3072-439a-c14d-431422a4317e"
      },
      "source": [
        "# baf step\n",
        "!cnvpytor -root NA12877.pytor -baf 100000"
      ],
      "execution_count": null,
      "outputs": [
        {
          "output_type": "stream",
          "text": [
            "2020-07-22 03:24:57,264 - cnvpytor.root - INFO - Calculating BAF histograms for chromosome 'chr1'.\n",
            "2020-07-22 03:25:15,873 - cnvpytor.root - INFO - Saving BAF histograms with bin size 100000 for chromosome 'chr1'.\n",
            "2020-07-22 03:25:15,990 - cnvpytor.root - INFO - Calculating BAF histograms for chromosome 'chr2'.\n",
            "2020-07-22 03:25:35,870 - cnvpytor.root - INFO - Saving BAF histograms with bin size 100000 for chromosome 'chr2'.\n",
            "2020-07-22 03:25:35,979 - cnvpytor.root - INFO - Calculating BAF histograms for chromosome 'chr3'.\n",
            "2020-07-22 03:25:53,668 - cnvpytor.root - INFO - Saving BAF histograms with bin size 100000 for chromosome 'chr3'.\n",
            "2020-07-22 03:25:53,757 - cnvpytor.root - INFO - Calculating BAF histograms for chromosome 'chr4'.\n",
            "2020-07-22 03:26:12,264 - cnvpytor.root - INFO - Saving BAF histograms with bin size 100000 for chromosome 'chr4'.\n",
            "2020-07-22 03:26:12,373 - cnvpytor.root - INFO - Calculating BAF histograms for chromosome 'chr5'.\n",
            "2020-07-22 03:26:28,196 - cnvpytor.root - INFO - Saving BAF histograms with bin size 100000 for chromosome 'chr5'.\n",
            "2020-07-22 03:26:28,279 - cnvpytor.root - INFO - Calculating BAF histograms for chromosome 'chr6'.\n",
            "2020-07-22 03:26:43,969 - cnvpytor.root - INFO - Saving BAF histograms with bin size 100000 for chromosome 'chr6'.\n",
            "2020-07-22 03:26:44,047 - cnvpytor.root - INFO - Calculating BAF histograms for chromosome 'chr7'.\n",
            "2020-07-22 03:26:57,607 - cnvpytor.root - INFO - Saving BAF histograms with bin size 100000 for chromosome 'chr7'.\n",
            "2020-07-22 03:26:57,679 - cnvpytor.root - INFO - Calculating BAF histograms for chromosome 'chr8'.\n",
            "2020-07-22 03:27:12,449 - cnvpytor.root - INFO - Saving BAF histograms with bin size 100000 for chromosome 'chr8'.\n",
            "2020-07-22 03:27:12,515 - cnvpytor.root - INFO - Calculating BAF histograms for chromosome 'chr9'.\n",
            "2020-07-22 03:27:23,369 - cnvpytor.root - INFO - Saving BAF histograms with bin size 100000 for chromosome 'chr9'.\n",
            "2020-07-22 03:27:23,424 - cnvpytor.root - INFO - Calculating BAF histograms for chromosome 'chr10'.\n",
            "2020-07-22 03:27:35,660 - cnvpytor.root - INFO - Saving BAF histograms with bin size 100000 for chromosome 'chr10'.\n",
            "2020-07-22 03:27:35,722 - cnvpytor.root - INFO - Calculating BAF histograms for chromosome 'chr11'.\n",
            "2020-07-22 03:27:48,088 - cnvpytor.root - INFO - Saving BAF histograms with bin size 100000 for chromosome 'chr11'.\n",
            "2020-07-22 03:27:48,152 - cnvpytor.root - INFO - Calculating BAF histograms for chromosome 'chr12'.\n",
            "2020-07-22 03:27:59,993 - cnvpytor.root - INFO - Saving BAF histograms with bin size 100000 for chromosome 'chr12'.\n",
            "2020-07-22 03:28:00,056 - cnvpytor.root - INFO - Calculating BAF histograms for chromosome 'chr13'.\n",
            "2020-07-22 03:28:09,633 - cnvpytor.root - INFO - Saving BAF histograms with bin size 100000 for chromosome 'chr13'.\n",
            "2020-07-22 03:28:09,680 - cnvpytor.root - INFO - Calculating BAF histograms for chromosome 'chr14'.\n",
            "2020-07-22 03:28:17,510 - cnvpytor.root - INFO - Saving BAF histograms with bin size 100000 for chromosome 'chr14'.\n",
            "2020-07-22 03:28:17,555 - cnvpytor.root - INFO - Calculating BAF histograms for chromosome 'chr15'.\n",
            "2020-07-22 03:28:24,529 - cnvpytor.root - INFO - Saving BAF histograms with bin size 100000 for chromosome 'chr15'.\n",
            "2020-07-22 03:28:24,570 - cnvpytor.root - INFO - Calculating BAF histograms for chromosome 'chr16'.\n",
            "2020-07-22 03:28:31,886 - cnvpytor.root - INFO - Saving BAF histograms with bin size 100000 for chromosome 'chr16'.\n",
            "2020-07-22 03:28:31,923 - cnvpytor.root - INFO - Calculating BAF histograms for chromosome 'chr17'.\n",
            "2020-07-22 03:28:38,365 - cnvpytor.root - INFO - Saving BAF histograms with bin size 100000 for chromosome 'chr17'.\n",
            "2020-07-22 03:28:38,400 - cnvpytor.root - INFO - Calculating BAF histograms for chromosome 'chr18'.\n",
            "2020-07-22 03:28:45,632 - cnvpytor.root - INFO - Saving BAF histograms with bin size 100000 for chromosome 'chr18'.\n",
            "2020-07-22 03:28:45,665 - cnvpytor.root - INFO - Calculating BAF histograms for chromosome 'chr19'.\n",
            "2020-07-22 03:28:50,037 - cnvpytor.root - INFO - Saving BAF histograms with bin size 100000 for chromosome 'chr19'.\n",
            "2020-07-22 03:28:50,063 - cnvpytor.root - INFO - Calculating BAF histograms for chromosome 'chr20'.\n",
            "2020-07-22 03:28:55,401 - cnvpytor.root - INFO - Saving BAF histograms with bin size 100000 for chromosome 'chr20'.\n",
            "2020-07-22 03:28:55,429 - cnvpytor.root - INFO - Calculating BAF histograms for chromosome 'chr21'.\n",
            "2020-07-22 03:28:58,923 - cnvpytor.root - INFO - Saving BAF histograms with bin size 100000 for chromosome 'chr21'.\n",
            "2020-07-22 03:28:58,942 - cnvpytor.root - INFO - Calculating BAF histograms for chromosome 'chr22'.\n",
            "2020-07-22 03:29:02,097 - cnvpytor.root - INFO - Saving BAF histograms with bin size 100000 for chromosome 'chr22'.\n",
            "2020-07-22 03:29:02,116 - cnvpytor.root - INFO - Calculating BAF histograms for chromosome 'chrX'.\n",
            "2020-07-22 03:29:03,435 - cnvpytor.root - INFO - Saving BAF histograms with bin size 100000 for chromosome 'chrX'.\n",
            "2020-07-22 03:29:03,468 - cnvpytor.root - INFO - Calculating BAF histograms for chromosome 'chrY'.\n",
            "2020-07-22 03:29:03,499 - cnvpytor.root - INFO - Saving BAF histograms with bin size 100000 for chromosome 'chrY'.\n"
          ],
          "name": "stdout"
        }
      ]
    },
    {
      "cell_type": "code",
      "metadata": {
        "id": "0g_WOTzVStmh",
        "colab_type": "code",
        "colab": {
          "base_uri": "https://localhost:8080/",
          "height": 1000
        },
        "outputId": "641109e4-b5ab-49cc-b03f-874af2f1fb07"
      },
      "source": [
        "# baf call step\n",
        "!cnvpytor -root NA12877.pytor -call baf 100000"
      ],
      "execution_count": null,
      "outputs": [
        {
          "output_type": "stream",
          "text": [
            "chr1:800001-248600000 247800000 100000 1728 0.0 1.0\n",
            "chr1:17200001-17500000 300000 100000 2 0.125 4.026793518323269e-05\n",
            "chr1:94800001-94900000 100000 100000 1 0.075 0.06197335807012843\n",
            "chr1:163700001-163800000 100000 100000 1 0.075 0.13126064503083054\n",
            "chr1:215600001-215700000 100000 100000 1 0.1 0.05880504648188138\n",
            "chr1:217700001-217800000 100000 100000 1 0.095 0.059153304374478265\n",
            "chr2:100001-243000000 242900000 100000 1832 0.0 1.0\n",
            "chr2:33500001-33600000 100000 100000 1 0.07 0.06210491362900817\n",
            "chr2:37900001-38000000 100000 100000 1 0.105 1.2239484108393161e-12\n",
            "chr2:38000001-38100000 100000 100000 1 0.06 0.001353356984603748\n",
            "chr2:126600001-126700000 100000 100000 1 0.06 0.08875513570993471\n",
            "chr2:206100001-206200000 100000 100000 1 0.07 0.18047130150766985\n",
            "chr3:1-197500000 197500000 100000 1591 0.0 1.0\n",
            "chr3:87000001-87100000 100000 100000 1 0.12 0.002120481484567326\n",
            "chr3:121500001-121600000 100000 100000 1 0.125 0.008632984197197179\n",
            "chr3:197500001-197600000 100000 100000 1 0.125 0.006833163066724338\n",
            "chr4:100001-190800000 190700000 100000 1518 0.0 1.0\n",
            "chr4:44900001-45000000 100000 100000 1 0.13 0.002806611037607726\n",
            "chr4:86400001-86700000 300000 100000 2 0.055 0.11641755809117497\n",
            "chr4:153600001-153800000 200000 100000 2 0.05 0.09637277072140157\n",
            "chr5:1-180600000 180600000 100000 1397 0.0 1.0\n",
            "chr5:20800001-20900000 100000 100000 1 0.125 8.271294050278339e-05\n",
            "chr5:23600001-23700000 100000 100000 1 0.08 0.025125567126554848\n",
            "chr5:91800001-91900000 100000 100000 1 0.06 0.1642599358637931\n",
            "chr5:180100001-180200000 100000 100000 1 0.085 4.948134345568585e-05\n",
            "chr6:400001-170900000 170500000 100000 1340 0.0 1.0\n",
            "chr6:35700001-35800000 100000 100000 1 0.075 0.001177130636265199\n",
            "chr6:62700001-62900000 200000 100000 2 0.065 0.03590046962494555\n",
            "chr6:66200001-66300000 100000 100000 1 0.15 0.00016878655109824292\n",
            "chr7:1-159100000 159100000 100000 1190 0.0 1.0\n",
            "chr7:30100001-30600000 500000 100000 3 0.055 0.1260569586302014\n",
            "chr7:65200001-65300000 100000 100000 1 0.155 2.590315822228134e-09\n",
            "chr7:142000001-142100000 100000 100000 1 0.11 5.016779575710509e-05\n",
            "chr8:100001-146300000 146200000 100000 1138 0.0 1.0\n",
            "chr8:43600001-43700000 100000 100000 1 0.08 0.06121125574537891\n",
            "chr8:70800001-70900000 100000 100000 1 0.055 0.0923282862093311\n",
            "chr8:91700001-92900000 1200000 100000 2 0.055 0.004086196178288431\n",
            "chr9:200001-140800000 140600000 100000 901 0.0 1.0\n",
            "chr9:37800001-38100000 300000 100000 2 0.07 0.1173616067985412\n",
            "chr9:100600001-100900000 300000 100000 3 0.04 0.09574843209446435\n",
            "chr10:100001-135400000 135300000 100000 1045 0.0 1.0\n",
            "chr10:47000001-47100000 100000 100000 1 0.19 7.945685831127266e-10\n",
            "chr10:121500001-121600000 100000 100000 1 0.07 0.008690959750706651\n",
            "chr11:200001-134800000 134600000 100000 1046 0.0 1.0\n",
            "chr11:14800001-14900000 100000 100000 1 0.08 0.002527389590889234\n",
            "chr12:200001-133800000 133600000 100000 1073 0.0 1.0\n",
            "chr12:8000001-8200000 200000 100000 2 0.16 5.792257490002092e-30\n",
            "chr12:80000001-80100000 100000 100000 1 0.085 0.11916833892611249\n",
            "chr13:19600001-115100000 95500000 100000 805 0.0 1.0\n",
            "chr13:72100001-72200000 100000 100000 1 0.075 0.08516735127596853\n",
            "chr14:20200001-20300000 100000 100000 1 0.21 1.4060264094401333e-26\n",
            "chr14:20300001-20500000 200000 100000 2 0.085 2.8756298238583857e-11\n",
            "chr14:20500001-107300000 86800000 100000 704 0.0 1.0\n",
            "chr14:79500001-79600000 100000 100000 1 0.07 0.1354952573679384\n",
            "chr14:106600001-106800000 200000 100000 2 0.235 2.573211233257277e-29\n",
            "chr15:20100001-102400000 82300000 100000 630 0.0 1.0\n",
            "chr15:22300001-22400000 100000 100000 1 0.125 5.279948436743125e-10\n",
            "chr16:100001-90200000 90100000 100000 602 0.0 1.0\n",
            "chr16:32600001-33700000 1100000 100000 2 0.12 2.231415627569433e-07\n",
            "chr16:55800001-55900000 100000 100000 1 0.2 1.3719047464223618e-07\n",
            "chr17:1-81100000 81100000 100000 632 0.0 1.0\n",
            "chr17:20900001-21000000 100000 100000 1 0.055 0.08622372463597039\n",
            "chr17:34400001-34500000 100000 100000 1 0.13 7.230397647858099e-20\n",
            "chr17:44300001-44400000 100000 100000 1 0.155 3.0661723605542694e-13\n",
            "chr18:200001-78100000 77900000 100000 620 0.0 1.0\n",
            "chr19:200001-59100000 58900000 100000 466 0.0 1.0\n",
            "chr19:11200001-11300000 100000 100000 1 0.055 0.06656074619981193\n",
            "chr19:43500001-43600000 100000 100000 1 0.14 0.00010543661816472869\n",
            "chr20:100001-63000000 62900000 100000 487 0.0 1.0\n",
            "chr21:15400001-47800000 32400000 100000 280 0.0 1.0\n",
            "chr22:17200001-51200000 34000000 100000 292 0.0 1.0\n",
            "chr22:23000001-23100000 100000 100000 1 0.11 3.5787727399034764e-11\n",
            "chr22:23100001-23200000 100000 100000 1 0.225 6.057490238865055e-28\n",
            "chr22:23200001-23300000 100000 100000 1 0.11 0.00010544743346468362\n"
          ],
          "name": "stdout"
        }
      ]
    },
    {
      "cell_type": "markdown",
      "metadata": {
        "id": "OI5Nfduwj6Im",
        "colab_type": "text"
      },
      "source": [
        "#### 3.2.2 Using Python console"
      ]
    },
    {
      "cell_type": "markdown",
      "metadata": {
        "id": "la7CPyL2qEL1",
        "colab_type": "text"
      },
      "source": [
        "Import SNP data from VCF file"
      ]
    },
    {
      "cell_type": "code",
      "metadata": {
        "id": "W8P4pfUGpuTO",
        "colab_type": "code",
        "colab": {}
      },
      "source": [
        "vcf_file = \"/content/trio_data_vcf/NA12877_S1.genome.vcf\"\n",
        "vcf_file_list = [vcf_file]\n",
        "app.vcf(vcf_file_list, use_index=True)\n"
      ],
      "execution_count": null,
      "outputs": []
    },
    {
      "cell_type": "markdown",
      "metadata": {
        "id": "RTLpYIX-qgy4",
        "colab_type": "text"
      },
      "source": [
        "Introduce P region mask. This step use strict mask from 1kG project. For hg19 and hg38 this mask data is provided with CNVpythor:"
      ]
    },
    {
      "cell_type": "code",
      "metadata": {
        "id": "sSSaenUjqmGK",
        "colab_type": "code",
        "colab": {}
      },
      "source": [
        "app.mask_snps()"
      ],
      "execution_count": null,
      "outputs": []
    },
    {
      "cell_type": "markdown",
      "metadata": {
        "id": "s8SMEW5Oqu-A",
        "colab_type": "text"
      },
      "source": [
        "Calculate baf hisotgrams and likelihood function:"
      ]
    },
    {
      "cell_type": "code",
      "metadata": {
        "id": "JGZCYIyhqo1H",
        "colab_type": "code",
        "colab": {}
      },
      "source": [
        "app.calculate_baf([10000, 100000])"
      ],
      "execution_count": null,
      "outputs": []
    },
    {
      "cell_type": "markdown",
      "metadata": {
        "id": "gS-kYadbl4Hv",
        "colab_type": "text"
      },
      "source": [
        "## 4. Visualization of the results\n",
        "\n",
        "This part demostrate various visualization features of cnvpytor results. One can use both the command line and python environment to access the stored results in pytor file.\n",
        "\n",
        "\n"
      ]
    },
    {
      "cell_type": "markdown",
      "metadata": {
        "id": "1Lu-iezF_jLp",
        "colab_type": "text"
      },
      "source": [
        "*   Using python environment\n",
        "*   Using interactive mode\n",
        "\n",
        "\n"
      ]
    },
    {
      "cell_type": "markdown",
      "metadata": {
        "id": "x1FxNpirMaBF",
        "colab_type": "text"
      },
      "source": [
        "### 4.1 View metadata from pytor file\n",
        "\n"
      ]
    },
    {
      "cell_type": "code",
      "metadata": {
        "id": "eU4TJ45POUA2",
        "colab_type": "code",
        "colab": {
          "base_uri": "https://localhost:8080/",
          "height": 86
        },
        "outputId": "9336637d-84e3-4edf-990a-d4c2e24e16e2"
      },
      "source": [
        "!cnvpytor -root NA12877.pytor -meta"
      ],
      "execution_count": null,
      "outputs": [
        {
          "output_type": "stream",
          "text": [
            "BAM: /content/trio_data_bam/NA12877_S1.bam\n",
            "Date: 2020-07-21 23:11\n",
            "VCF: /content/trio_data_vcf/NA12877_S1.genome.vcf\n",
            "Version: 1.0\n"
          ],
          "name": "stdout"
        }
      ]
    },
    {
      "cell_type": "markdown",
      "metadata": {
        "id": "uFDnMUmyMini",
        "colab_type": "text"
      },
      "source": [
        "### 4.2 View content of the pytor file"
      ]
    },
    {
      "cell_type": "code",
      "metadata": {
        "id": "SwFS-w0cMYj7",
        "colab_type": "code",
        "colab": {
          "base_uri": "https://localhost:8080/",
          "height": 315
        },
        "outputId": "27f00f9c-11c2-4fc3-eaa7-2cf005d91e99"
      },
      "source": [
        "import cnvpytor\n",
        "pytor_file = \"NA12877.pytor\"\n",
        "\n",
        "view = cnvpytor.Viewer([pytor_file],params={\"bin_size\":100000})\n",
        "view.ls()"
      ],
      "execution_count": null,
      "outputs": [
        {
          "output_type": "stream",
          "text": [
            "\n",
            "Filename 'NA12877.pytor'\n",
            "------------------------\n",
            "File created: 2020-07-21 23:11 using CNVpytor ver 1.0\n",
            "\n",
            "Chromosomes with RD signal: chrM, chr1, chr2, chr3, chr4, chr5, chr6, chr7, chr8, chr9, chr10, chr11, chr12, chr13, chr14, chr15, chr16, chr17, chr18, chr19, chr20, chr21, chr22, chrX, chrY\n",
            "\n",
            "Chromosomes with SNP signal: chr1, chr2, chr3, chr4, chr5, chr6, chr7, chr8, chr9, chr10, chr11, chr12, chr13, chr14, chr15, chr16, chr17, chr18, chr19, chr20, chr21, chr22, chrX, chrY\n",
            "\n",
            "Using reference genome: hg19 [ GC: yes, mask: yes ]\n",
            "\n",
            "Chromosomes with RD histograms [bin sizes]: chr10, chr11, chr12, chr13, chr14, chr15, chr16, chr17, chr18, chr19, chr1, chr20, chr21, chr22, chr2, chr3, chr4, chr5, chr6, chr7, chr8, chr9, chrM, chrX, chrY [100000]\n",
            "\n",
            "Chromosomes with SNP histograms [bin sizes]: chr10, chr11, chr12, chr13, chr14, chr15, chr16, chr17, chr18, chr19, chr1, chr20, chr21, chr22, chr2, chr3, chr4, chr5, chr6, chr7, chr8, chr9, chrX, chrY [100000]\n",
            "\n",
            "Chromosome lengths: {'chrM': '16571', 'chr1': '249250621', 'chr2': '243199373', 'chr3': '198022430', 'chr4': '191154276', 'chr5': '180915260', 'chr6': '171115067', 'chr7': '159138663', 'chr8': '146364022', 'chr9': '141213431', 'chr10': '135534747', 'chr11': '135006516', 'chr12': '133851895', 'chr13': '115169878', 'chr14': '107349540', 'chr15': '102531392', 'chr16': '90354753', 'chr17': '81195210', 'chr18': '78077248', 'chr19': '59128983', 'chr20': '63025520', 'chr21': '48129895', 'chr22': '51304566', 'chrX': '155270560', 'chrY': '59373566'}\n"
          ],
          "name": "stdout"
        }
      ]
    },
    {
      "cell_type": "markdown",
      "metadata": {
        "id": "j0Q09_J9PBVt",
        "colab_type": "text"
      },
      "source": [
        "### 4.3 Configuration options"
      ]
    },
    {
      "cell_type": "code",
      "metadata": {
        "id": "1UbOHBDtPM_H",
        "colab_type": "code",
        "colab": {
          "base_uri": "https://localhost:8080/",
          "height": 781
        },
        "outputId": "71333f76-7fb3-4b20-bf31-75d2fb5efd64"
      },
      "source": [
        "import cnvpytor\n",
        "pytor_file = \"NA12877.pytor\"\n",
        "\n",
        "view = cnvpytor.Viewer([pytor_file],params={\"bin_size\":100000})\n",
        "view.show()"
      ],
      "execution_count": null,
      "outputs": [
        {
          "output_type": "stream",
          "text": [
            "\n",
            "Parameters\n",
            "    * baf_colors: ['gray', 'black', 'red', 'green', 'blue']\n",
            "    * bin_size: 100000\n",
            "    * chrom: []\n",
            "    * contrast: 20\n",
            "    * dpi: 200\n",
            "    * file_titles: []\n",
            "    * grid: auto\n",
            "    * legend: False\n",
            "    * lh_colors: ['yellow', 'red']\n",
            "    * lh_marker: _\n",
            "    * lh_markersize: 20\n",
            "    * markersize: auto\n",
            "    * min_segment_size: 0\n",
            "    * output_filename: \n",
            "    * panels: ['rd']\n",
            "    * plot_file: 0\n",
            "    * plot_files: [0]\n",
            "            0: NA12877.pytor\n",
            "    * rd_call: True\n",
            "    * rd_call_mosaic: True\n",
            "    * rd_call_mosaic_2d: True\n",
            "    * rd_circular_colors: ['#555555', '#aaaaaa']\n",
            "    * rd_colors: ['grey', 'black', 'red', 'green', 'blue', 'cyan']\n",
            "    * rd_corrected: True\n",
            "    * rd_manhattan_call: False\n",
            "    * rd_manhattan_range: [0, 2]\n",
            "    * rd_partition: False\n",
            "    * rd_range: [0, 6]\n",
            "    * rd_raw: True\n",
            "    * rd_use_gc_corr: True\n",
            "    * rd_use_mask: False\n",
            "    * snp_call: True\n",
            "    * snp_call_2d: True\n",
            "    * snp_circular_colors: ['#00ff00', '#0000ff']\n",
            "    * snp_colors: ['yellow', 'orange', 'cyan', 'blue', 'lime', 'green', 'yellow', 'orange']\n",
            "    * snp_use_id: False\n",
            "    * snp_use_mask: True\n",
            "    * snp_use_phase: False\n",
            "    * style: None\n",
            "    * subgrid: vertical\n",
            "    * xkcd: False\n",
            "\n"
          ],
          "name": "stdout"
        }
      ]
    },
    {
      "cell_type": "markdown",
      "metadata": {
        "id": "UsN-1s5lOdE1",
        "colab_type": "text"
      },
      "source": [
        "###  4.4 Single Sample: Genome wide view "
      ]
    },
    {
      "cell_type": "code",
      "metadata": {
        "id": "R225Dd6wOspz",
        "colab_type": "code",
        "colab": {
          "base_uri": "https://localhost:8080/",
          "height": 341
        },
        "outputId": "aa39085e-3986-4b50-d31c-2df9681c3ee1"
      },
      "source": [
        "import cnvpytor\n",
        "pytor_file = \"NA12877.pytor\"\n",
        "\n",
        "view = cnvpytor.Viewer([pytor_file],params={\"bin_size\":100000})\n",
        "\n",
        "view.rd()"
      ],
      "execution_count": null,
      "outputs": [
        {
          "output_type": "display_data",
          "data": {
            "image/png": "[encoded data removed]",
            "text/plain": [
              "<Figure size 432x288 with 24 Axes>"
            ]
          },
          "metadata": {
            "tags": [],
            "needs_background": "light"
          }
        },
        {
          "output_type": "display_data",
          "data": {
            "text/plain": [
              "<Figure size 432x288 with 0 Axes>"
            ]
          },
          "metadata": {
            "tags": []
          }
        }
      ]
    },
    {
      "cell_type": "markdown",
      "metadata": {
        "id": "LoN5UFX0OtLH",
        "colab_type": "text"
      },
      "source": [
        "###  4.4 Single Sample: Region Wide"
      ]
    },
    {
      "cell_type": "code",
      "metadata": {
        "id": "HmAgx8KQO4eR",
        "colab_type": "code",
        "colab": {
          "base_uri": "https://localhost:8080/",
          "height": 335
        },
        "outputId": "37cf194b-0577-4a44-ea35-5c0288a2cf44"
      },
      "source": [
        "view.panels=['rd']\n",
        "view.multiple_regions(['chr1', 'chr2'])\n"
      ],
      "execution_count": null,
      "outputs": [
        {
          "output_type": "display_data",
          "data": {
            "image/png": "[encoded data removed]",
            "text/plain": [
              "<Figure size 432x288 with 2 Axes>"
            ]
          },
          "metadata": {
            "tags": [],
            "needs_background": "light"
          }
        },
        {
          "output_type": "display_data",
          "data": {
            "text/plain": [
              "<Figure size 432x288 with 0 Axes>"
            ]
          },
          "metadata": {
            "tags": []
          }
        }
      ]
    },
    {
      "cell_type": "markdown",
      "metadata": {
        "id": "XFoXBg5UOvti",
        "colab_type": "text"
      },
      "source": [
        "###  4.4 Single Sample: Multiple panel at once"
      ]
    },
    {
      "cell_type": "code",
      "metadata": {
        "id": "g_OQfzrzO5Vo",
        "colab_type": "code",
        "colab": {
          "base_uri": "https://localhost:8080/",
          "height": 335
        },
        "outputId": "fd75988d-1b14-477c-b5c0-2af4641d8331"
      },
      "source": [
        "view.panels=['rd', 'likelihood']\n",
        "view.multiple_regions(['chr1', 'chr2'])"
      ],
      "execution_count": null,
      "outputs": [
        {
          "output_type": "display_data",
          "data": {
            "image/png": "[encoded data removed]",
            "text/plain": [
              "<Figure size 432x288 with 6 Axes>"
            ]
          },
          "metadata": {
            "tags": [],
            "needs_background": "light"
          }
        },
        {
          "output_type": "display_data",
          "data": {
            "text/plain": [
              "<Figure size 432x288 with 0 Axes>"
            ]
          },
          "metadata": {
            "tags": []
          }
        }
      ]
    },
    {
      "cell_type": "markdown",
      "metadata": {
        "id": "dYh1NSFnSA-6",
        "colab_type": "text"
      },
      "source": [
        "### 4.5 Read Depth; Manhattan Plot\n"
      ]
    },
    {
      "cell_type": "code",
      "metadata": {
        "id": "A0yLlBT2SIM3",
        "colab_type": "code",
        "colab": {
          "base_uri": "https://localhost:8080/",
          "height": 584
        },
        "outputId": "8894e61a-485b-448d-ab0a-a36d5cfd710f"
      },
      "source": [
        "# Single Sample\n",
        "view.markersize=1\n",
        "view.manhattan()\n",
        "\n",
        "\n",
        "# multiple sample\n",
        "view.chrom=[]\n",
        "view.markersize=1\n",
        "view.manhattan()"
      ],
      "execution_count": null,
      "outputs": [
        {
          "output_type": "display_data",
          "data": {
            "image/png": "[encoded data removed]",
            "text/plain": [
              "<Figure size 432x288 with 1 Axes>"
            ]
          },
          "metadata": {
            "tags": [],
            "needs_background": "light"
          }
        },
        {
          "output_type": "display_data",
          "data": {
            "image/png": "[encoded data removed]",
            "text/plain": [
              "<Figure size 432x288 with 1 Axes>"
            ]
          },
          "metadata": {
            "tags": [],
            "needs_background": "light"
          }
        },
        {
          "output_type": "display_data",
          "data": {
            "text/plain": [
              "<Figure size 432x288 with 0 Axes>"
            ]
          },
          "metadata": {
            "tags": []
          }
        }
      ]
    },
    {
      "cell_type": "code",
      "metadata": {
        "id": "ctcJ4Fq9m3yA",
        "colab_type": "code",
        "colab": {
          "base_uri": "https://localhost:8080/",
          "height": 341
        },
        "outputId": "0a727835-a9ef-4601-fd61-ff563cf30ac2"
      },
      "source": [
        "view.likelihood()"
      ],
      "execution_count": null,
      "outputs": [
        {
          "output_type": "display_data",
          "data": {
            "image/png": "[encoded data removed]",
            "text/plain": [
              "<Figure size 432x288 with 24 Axes>"
            ]
          },
          "metadata": {
            "tags": [],
            "needs_background": "light"
          }
        },
        {
          "output_type": "display_data",
          "data": {
            "text/plain": [
              "<Figure size 432x288 with 0 Axes>"
            ]
          },
          "metadata": {
            "tags": []
          }
        }
      ]
    },
    {
      "cell_type": "markdown",
      "metadata": {
        "id": "gXsXWaN5OZ_T",
        "colab_type": "text"
      },
      "source": [
        ""
      ]
    },
    {
      "cell_type": "markdown",
      "metadata": {
        "id": "acT_rkNvrx81",
        "colab_type": "text"
      },
      "source": [
        "## 5. Export CNVpytor results\n",
        "\n",
        "CNVpytor results can be exported to visualize in Jbrowse Genome browser.  "
      ]
    },
    {
      "cell_type": "code",
      "metadata": {
        "id": "8ycPoUmUsHuc",
        "colab_type": "code",
        "colab": {}
      },
      "source": [
        "# Install Dependency\n",
        "!pip install pybigwig"
      ],
      "execution_count": null,
      "outputs": []
    },
    {
      "cell_type": "code",
      "metadata": {
        "id": "DW3Y3mNCr1k9",
        "colab_type": "code",
        "colab": {
          "base_uri": "https://localhost:8080/",
          "height": 211
        },
        "outputId": "de45b6db-87ee-4b0f-dc37-2debe087122e"
      },
      "source": [
        "# cnvpytor -root [pytor files] -export jbrowse\n",
        "\n",
        "!cnvpytor -root NA12877.pytor -export jbrowse"
      ],
      "execution_count": null,
      "outputs": [
        {
          "output_type": "stream",
          "text": [
            "2020-07-22 04:06:04,746 - cnvpytor.export - INFO - CNVpytor data exporting for JBrowse view in jbrowse_NA12877\n",
            "2020-07-22 04:06:04,748 - cnvpytor.export - INFO - JBrowse export: RD related data for NA12877\n",
            "2020-07-22 04:06:04,750 - cnvpytor.export - INFO - JBrowse export: RD signal RD\n",
            "2020-07-22 04:06:04,811 - cnvpytor.export - INFO - JBrowse export: RD signal RD partition\n",
            "2020-07-22 04:06:04,828 - cnvpytor.export - INFO - JBrowse export: RD signal RD call\n",
            "2020-07-22 04:06:04,845 - cnvpytor.export - INFO - JBrowse export: SNP related data for NA12877\n",
            "2020-07-22 04:06:04,848 - cnvpytor.export - INFO - JBrowse export: SNP signal SNP baf\n",
            "2020-07-22 04:06:04,872 - cnvpytor.export - INFO - JBrowse export: SNP signal SNP i1\n",
            "2020-07-22 04:06:04,916 - cnvpytor.export - INFO - JBrowse export: complete\n",
            "2020-07-22 04:06:04,916 - cnvpytor.export - INFO - Copy this directory to jbrowse directory if export path is not set to JBrowse path, To access this via localhost: http://localhost/jbrowse/?data=\n"
          ],
          "name": "stdout"
        }
      ]
    },
    {
      "cell_type": "code",
      "metadata": {
        "id": "Kiee_Vuotggz",
        "colab_type": "code",
        "colab": {
          "base_uri": "https://localhost:8080/",
          "height": 243
        },
        "outputId": "aa8eabe6-5d35-4a27-8999-99322a839364"
      },
      "source": [
        "#Download the exported directory\n",
        "#two step:\n",
        "#1. zip it\n",
        "!zip -r /content/jbrowse_NA12877.zip /content/jbrowse_NA12877"
      ],
      "execution_count": null,
      "outputs": [
        {
          "output_type": "stream",
          "text": [
            "  adding: content/jbrowse_NA12877/ (stored 0%)\n",
            "  adding: content/jbrowse_NA12877/seq/ (stored 0%)\n",
            "  adding: content/jbrowse_NA12877/seq/refSeqs.json (deflated 84%)\n",
            "  adding: content/jbrowse_NA12877/trackList.json (deflated 82%)\n",
            "  adding: content/jbrowse_NA12877/bw/ (stored 0%)\n",
            "  adding: content/jbrowse_NA12877/bw/NA12877/ (stored 0%)\n",
            "  adding: content/jbrowse_NA12877/bw/NA12877/his_rd_p_100000_GC.bw (deflated 1%)\n",
            "  adding: content/jbrowse_NA12877/bw/NA12877/snp_i1_100000_mask_offset0.5.bw (deflated 5%)\n",
            "  adding: content/jbrowse_NA12877/bw/NA12877/his_rd_p_100000_partition_GC.bw (deflated 11%)\n",
            "  adding: content/jbrowse_NA12877/bw/NA12877/his_rd_p_100000_partition_GC_merge.bw (deflated 33%)\n",
            "  adding: content/jbrowse_NA12877/bw/NA12877/snp_i1_100000_mask_offset-0.5.bw (deflated 5%)\n",
            "  adding: content/jbrowse_NA12877/bw/NA12877/snp_baf_100000_mask.bw (deflated 1%)\n",
            "  adding: content/jbrowse_NA12877/bw/NA12877/his_rd_p_100000.bw (deflated 2%)\n"
          ],
          "name": "stdout"
        }
      ]
    },
    {
      "cell_type": "code",
      "metadata": {
        "id": "TNwuB_XqtmZo",
        "colab_type": "code",
        "colab": {
          "base_uri": "https://localhost:8080/",
          "height": 17
        },
        "outputId": "6b74b334-f59f-48ec-c6d5-1faf46d0572f"
      },
      "source": [
        "from google.colab import files\n",
        "files.download(\"/content/jbrowse_NA12877.zip\")"
      ],
      "execution_count": null,
      "outputs": [
        {
          "output_type": "display_data",
          "data": {
            "application/javascript": [
              "\n",
              "    async function download(id, filename, size) {\n",
              "      if (!google.colab.kernel.accessAllowed) {\n",
              "        return;\n",
              "      }\n",
              "      const div = document.createElement('div');\n",
              "      const label = document.createElement('label');\n",
              "      label.textContent = `Downloading \"${filename}\": `;\n",
              "      div.appendChild(label);\n",
              "      const progress = document.createElement('progress');\n",
              "      progress.max = size;\n",
              "      div.appendChild(progress);\n",
              "      document.body.appendChild(div);\n",
              "\n",
              "      const buffers = [];\n",
              "      let downloaded = 0;\n",
              "\n",
              "      const channel = await google.colab.kernel.comms.open(id);\n",
              "      // Send a message to notify the kernel that we're ready.\n",
              "      channel.send({})\n",
              "\n",
              "      for await (const message of channel.messages) {\n",
              "        // Send a message to notify the kernel that we're ready.\n",
              "        channel.send({})\n",
              "        if (message.buffers) {\n",
              "          for (const buffer of message.buffers) {\n",
              "            buffers.push(buffer);\n",
              "            downloaded += buffer.byteLength;\n",
              "            progress.value = downloaded;\n",
              "          }\n",
              "        }\n",
              "      }\n",
              "      const blob = new Blob(buffers, {type: 'application/binary'});\n",
              "      const a = document.createElement('a');\n",
              "      a.href = window.URL.createObjectURL(blob);\n",
              "      a.download = filename;\n",
              "      div.appendChild(a);\n",
              "      a.click();\n",
              "      div.remove();\n",
              "    }\n",
              "  "
            ],
            "text/plain": [
              "<IPython.core.display.Javascript object>"
            ]
          },
          "metadata": {
            "tags": []
          }
        },
        {
          "output_type": "display_data",
          "data": {
            "application/javascript": [
              "download(\"download_feb262a3-5a01-4799-b118-390a4d23f65e\", \"jbrowse_NA12877.zip\", 494751)"
            ],
            "text/plain": [
              "<IPython.core.display.Javascript object>"
            ]
          },
          "metadata": {
            "tags": []
          }
        }
      ]
    }
  ]
}